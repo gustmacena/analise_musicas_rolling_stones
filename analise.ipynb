{
 "cells": [
  {
   "cell_type": "code",
   "execution_count": 1,
   "id": "93af8c1c",
   "metadata": {},
   "outputs": [],
   "source": [
    "import pandas as pd"
   ]
  },
  {
   "cell_type": "code",
   "execution_count": 2,
   "id": "f6437ed8",
   "metadata": {},
   "outputs": [],
   "source": [
    "df = pd.read_csv('rolling_stones_spotify.csv', sep=',')"
   ]
  },
  {
   "cell_type": "code",
   "execution_count": 3,
   "id": "528ba3a1",
   "metadata": {},
   "outputs": [
    {
     "data": {
      "application/vnd.microsoft.datawrangler.viewer.v0+json": {
       "columns": [
        {
         "name": "index",
         "rawType": "int64",
         "type": "integer"
        },
        {
         "name": "Unnamed: 0",
         "rawType": "int64",
         "type": "integer"
        },
        {
         "name": "name",
         "rawType": "object",
         "type": "string"
        },
        {
         "name": "album",
         "rawType": "object",
         "type": "string"
        },
        {
         "name": "release_date",
         "rawType": "object",
         "type": "string"
        },
        {
         "name": "track_number",
         "rawType": "int64",
         "type": "integer"
        },
        {
         "name": "id",
         "rawType": "object",
         "type": "string"
        },
        {
         "name": "uri",
         "rawType": "object",
         "type": "string"
        },
        {
         "name": "acousticness",
         "rawType": "float64",
         "type": "float"
        },
        {
         "name": "danceability",
         "rawType": "float64",
         "type": "float"
        },
        {
         "name": "energy",
         "rawType": "float64",
         "type": "float"
        },
        {
         "name": "instrumentalness",
         "rawType": "float64",
         "type": "float"
        },
        {
         "name": "liveness",
         "rawType": "float64",
         "type": "float"
        },
        {
         "name": "loudness",
         "rawType": "float64",
         "type": "float"
        },
        {
         "name": "speechiness",
         "rawType": "float64",
         "type": "float"
        },
        {
         "name": "tempo",
         "rawType": "float64",
         "type": "float"
        },
        {
         "name": "valence",
         "rawType": "float64",
         "type": "float"
        },
        {
         "name": "popularity",
         "rawType": "int64",
         "type": "integer"
        },
        {
         "name": "duration_ms",
         "rawType": "int64",
         "type": "integer"
        }
       ],
       "ref": "991aa706-aa69-4740-be74-fa59ba010dde",
       "rows": [
        [
         "0",
         "0",
         "Concert Intro Music - Live",
         "Licked Live In NYC",
         "2022-06-10",
         "1",
         "2IEkywLJ4ykbhi1yRQvmsT",
         "spotify:track:2IEkywLJ4ykbhi1yRQvmsT",
         "0.0824",
         "0.463",
         "0.993",
         "0.996",
         "0.932",
         "-12.913",
         "0.11",
         "118.001",
         "0.0302",
         "33",
         "48640"
        ],
        [
         "1",
         "1",
         "Street Fighting Man - Live",
         "Licked Live In NYC",
         "2022-06-10",
         "2",
         "6GVgVJBKkGJoRfarYRvGTU",
         "spotify:track:6GVgVJBKkGJoRfarYRvGTU",
         "0.437",
         "0.326",
         "0.965",
         "0.233",
         "0.961",
         "-4.803",
         "0.0759",
         "131.455",
         "0.318",
         "34",
         "253173"
        ],
        [
         "2",
         "2",
         "Start Me Up - Live",
         "Licked Live In NYC",
         "2022-06-10",
         "3",
         "1Lu761pZ0dBTGpzxaQoZNW",
         "spotify:track:1Lu761pZ0dBTGpzxaQoZNW",
         "0.416",
         "0.386",
         "0.969",
         "0.4",
         "0.956",
         "-4.936",
         "0.115",
         "130.066",
         "0.313",
         "34",
         "263160"
        ],
        [
         "3",
         "3",
         "If You Can't Rock Me - Live",
         "Licked Live In NYC",
         "2022-06-10",
         "4",
         "1agTQzOTUnGNggyckEqiDH",
         "spotify:track:1agTQzOTUnGNggyckEqiDH",
         "0.567",
         "0.369",
         "0.985",
         "0.000107",
         "0.895",
         "-5.535",
         "0.193",
         "132.994",
         "0.147",
         "32",
         "305880"
        ],
        [
         "4",
         "4",
         "Don’t Stop - Live",
         "Licked Live In NYC",
         "2022-06-10",
         "5",
         "7piGJR8YndQBQWVXv6KtQw",
         "spotify:track:7piGJR8YndQBQWVXv6KtQw",
         "0.4",
         "0.303",
         "0.969",
         "0.0559",
         "0.966",
         "-5.098",
         "0.093",
         "130.533",
         "0.206",
         "32",
         "305106"
        ]
       ],
       "shape": {
        "columns": 18,
        "rows": 5
       }
      },
      "text/html": [
       "<div>\n",
       "<style scoped>\n",
       "    .dataframe tbody tr th:only-of-type {\n",
       "        vertical-align: middle;\n",
       "    }\n",
       "\n",
       "    .dataframe tbody tr th {\n",
       "        vertical-align: top;\n",
       "    }\n",
       "\n",
       "    .dataframe thead th {\n",
       "        text-align: right;\n",
       "    }\n",
       "</style>\n",
       "<table border=\"1\" class=\"dataframe\">\n",
       "  <thead>\n",
       "    <tr style=\"text-align: right;\">\n",
       "      <th></th>\n",
       "      <th>Unnamed: 0</th>\n",
       "      <th>name</th>\n",
       "      <th>album</th>\n",
       "      <th>release_date</th>\n",
       "      <th>track_number</th>\n",
       "      <th>id</th>\n",
       "      <th>uri</th>\n",
       "      <th>acousticness</th>\n",
       "      <th>danceability</th>\n",
       "      <th>energy</th>\n",
       "      <th>instrumentalness</th>\n",
       "      <th>liveness</th>\n",
       "      <th>loudness</th>\n",
       "      <th>speechiness</th>\n",
       "      <th>tempo</th>\n",
       "      <th>valence</th>\n",
       "      <th>popularity</th>\n",
       "      <th>duration_ms</th>\n",
       "    </tr>\n",
       "  </thead>\n",
       "  <tbody>\n",
       "    <tr>\n",
       "      <th>0</th>\n",
       "      <td>0</td>\n",
       "      <td>Concert Intro Music - Live</td>\n",
       "      <td>Licked Live In NYC</td>\n",
       "      <td>2022-06-10</td>\n",
       "      <td>1</td>\n",
       "      <td>2IEkywLJ4ykbhi1yRQvmsT</td>\n",
       "      <td>spotify:track:2IEkywLJ4ykbhi1yRQvmsT</td>\n",
       "      <td>0.0824</td>\n",
       "      <td>0.463</td>\n",
       "      <td>0.993</td>\n",
       "      <td>0.996000</td>\n",
       "      <td>0.932</td>\n",
       "      <td>-12.913</td>\n",
       "      <td>0.1100</td>\n",
       "      <td>118.001</td>\n",
       "      <td>0.0302</td>\n",
       "      <td>33</td>\n",
       "      <td>48640</td>\n",
       "    </tr>\n",
       "    <tr>\n",
       "      <th>1</th>\n",
       "      <td>1</td>\n",
       "      <td>Street Fighting Man - Live</td>\n",
       "      <td>Licked Live In NYC</td>\n",
       "      <td>2022-06-10</td>\n",
       "      <td>2</td>\n",
       "      <td>6GVgVJBKkGJoRfarYRvGTU</td>\n",
       "      <td>spotify:track:6GVgVJBKkGJoRfarYRvGTU</td>\n",
       "      <td>0.4370</td>\n",
       "      <td>0.326</td>\n",
       "      <td>0.965</td>\n",
       "      <td>0.233000</td>\n",
       "      <td>0.961</td>\n",
       "      <td>-4.803</td>\n",
       "      <td>0.0759</td>\n",
       "      <td>131.455</td>\n",
       "      <td>0.3180</td>\n",
       "      <td>34</td>\n",
       "      <td>253173</td>\n",
       "    </tr>\n",
       "    <tr>\n",
       "      <th>2</th>\n",
       "      <td>2</td>\n",
       "      <td>Start Me Up - Live</td>\n",
       "      <td>Licked Live In NYC</td>\n",
       "      <td>2022-06-10</td>\n",
       "      <td>3</td>\n",
       "      <td>1Lu761pZ0dBTGpzxaQoZNW</td>\n",
       "      <td>spotify:track:1Lu761pZ0dBTGpzxaQoZNW</td>\n",
       "      <td>0.4160</td>\n",
       "      <td>0.386</td>\n",
       "      <td>0.969</td>\n",
       "      <td>0.400000</td>\n",
       "      <td>0.956</td>\n",
       "      <td>-4.936</td>\n",
       "      <td>0.1150</td>\n",
       "      <td>130.066</td>\n",
       "      <td>0.3130</td>\n",
       "      <td>34</td>\n",
       "      <td>263160</td>\n",
       "    </tr>\n",
       "    <tr>\n",
       "      <th>3</th>\n",
       "      <td>3</td>\n",
       "      <td>If You Can't Rock Me - Live</td>\n",
       "      <td>Licked Live In NYC</td>\n",
       "      <td>2022-06-10</td>\n",
       "      <td>4</td>\n",
       "      <td>1agTQzOTUnGNggyckEqiDH</td>\n",
       "      <td>spotify:track:1agTQzOTUnGNggyckEqiDH</td>\n",
       "      <td>0.5670</td>\n",
       "      <td>0.369</td>\n",
       "      <td>0.985</td>\n",
       "      <td>0.000107</td>\n",
       "      <td>0.895</td>\n",
       "      <td>-5.535</td>\n",
       "      <td>0.1930</td>\n",
       "      <td>132.994</td>\n",
       "      <td>0.1470</td>\n",
       "      <td>32</td>\n",
       "      <td>305880</td>\n",
       "    </tr>\n",
       "    <tr>\n",
       "      <th>4</th>\n",
       "      <td>4</td>\n",
       "      <td>Don’t Stop - Live</td>\n",
       "      <td>Licked Live In NYC</td>\n",
       "      <td>2022-06-10</td>\n",
       "      <td>5</td>\n",
       "      <td>7piGJR8YndQBQWVXv6KtQw</td>\n",
       "      <td>spotify:track:7piGJR8YndQBQWVXv6KtQw</td>\n",
       "      <td>0.4000</td>\n",
       "      <td>0.303</td>\n",
       "      <td>0.969</td>\n",
       "      <td>0.055900</td>\n",
       "      <td>0.966</td>\n",
       "      <td>-5.098</td>\n",
       "      <td>0.0930</td>\n",
       "      <td>130.533</td>\n",
       "      <td>0.2060</td>\n",
       "      <td>32</td>\n",
       "      <td>305106</td>\n",
       "    </tr>\n",
       "  </tbody>\n",
       "</table>\n",
       "</div>"
      ],
      "text/plain": [
       "   Unnamed: 0                         name               album release_date  \\\n",
       "0           0   Concert Intro Music - Live  Licked Live In NYC   2022-06-10   \n",
       "1           1   Street Fighting Man - Live  Licked Live In NYC   2022-06-10   \n",
       "2           2           Start Me Up - Live  Licked Live In NYC   2022-06-10   \n",
       "3           3  If You Can't Rock Me - Live  Licked Live In NYC   2022-06-10   \n",
       "4           4            Don’t Stop - Live  Licked Live In NYC   2022-06-10   \n",
       "\n",
       "   track_number                      id                                   uri  \\\n",
       "0             1  2IEkywLJ4ykbhi1yRQvmsT  spotify:track:2IEkywLJ4ykbhi1yRQvmsT   \n",
       "1             2  6GVgVJBKkGJoRfarYRvGTU  spotify:track:6GVgVJBKkGJoRfarYRvGTU   \n",
       "2             3  1Lu761pZ0dBTGpzxaQoZNW  spotify:track:1Lu761pZ0dBTGpzxaQoZNW   \n",
       "3             4  1agTQzOTUnGNggyckEqiDH  spotify:track:1agTQzOTUnGNggyckEqiDH   \n",
       "4             5  7piGJR8YndQBQWVXv6KtQw  spotify:track:7piGJR8YndQBQWVXv6KtQw   \n",
       "\n",
       "   acousticness  danceability  energy  instrumentalness  liveness  loudness  \\\n",
       "0        0.0824         0.463   0.993          0.996000     0.932   -12.913   \n",
       "1        0.4370         0.326   0.965          0.233000     0.961    -4.803   \n",
       "2        0.4160         0.386   0.969          0.400000     0.956    -4.936   \n",
       "3        0.5670         0.369   0.985          0.000107     0.895    -5.535   \n",
       "4        0.4000         0.303   0.969          0.055900     0.966    -5.098   \n",
       "\n",
       "   speechiness    tempo  valence  popularity  duration_ms  \n",
       "0       0.1100  118.001   0.0302          33        48640  \n",
       "1       0.0759  131.455   0.3180          34       253173  \n",
       "2       0.1150  130.066   0.3130          34       263160  \n",
       "3       0.1930  132.994   0.1470          32       305880  \n",
       "4       0.0930  130.533   0.2060          32       305106  "
      ]
     },
     "execution_count": 3,
     "metadata": {},
     "output_type": "execute_result"
    }
   ],
   "source": [
    "df.head()"
   ]
  },
  {
   "cell_type": "code",
   "execution_count": 4,
   "id": "9d5ce302",
   "metadata": {},
   "outputs": [
    {
     "name": "stdout",
     "output_type": "stream",
     "text": [
      "['Unnamed: 0', 'name', 'album', 'release_date', 'track_number', 'id', 'uri', 'acousticness', 'danceability', 'energy', 'instrumentalness', 'liveness', 'loudness', 'speechiness', 'tempo', 'valence', 'popularity', 'duration_ms']\n"
     ]
    }
   ],
   "source": [
    "print(df.columns.tolist())"
   ]
  },
  {
   "cell_type": "code",
   "execution_count": 5,
   "id": "aef6b110",
   "metadata": {},
   "outputs": [],
   "source": [
    "df.drop(columns=['Unnamed: 0', 'id','uri'], errors='ignore', inplace=True)"
   ]
  },
  {
   "cell_type": "code",
   "execution_count": 6,
   "id": "d9d80730",
   "metadata": {},
   "outputs": [
    {
     "data": {
      "application/vnd.microsoft.datawrangler.viewer.v0+json": {
       "columns": [
        {
         "name": "index",
         "rawType": "int64",
         "type": "integer"
        },
        {
         "name": "name",
         "rawType": "object",
         "type": "string"
        },
        {
         "name": "album",
         "rawType": "object",
         "type": "string"
        },
        {
         "name": "release_date",
         "rawType": "object",
         "type": "string"
        },
        {
         "name": "track_number",
         "rawType": "int64",
         "type": "integer"
        },
        {
         "name": "acousticness",
         "rawType": "float64",
         "type": "float"
        },
        {
         "name": "danceability",
         "rawType": "float64",
         "type": "float"
        },
        {
         "name": "energy",
         "rawType": "float64",
         "type": "float"
        },
        {
         "name": "instrumentalness",
         "rawType": "float64",
         "type": "float"
        },
        {
         "name": "liveness",
         "rawType": "float64",
         "type": "float"
        },
        {
         "name": "loudness",
         "rawType": "float64",
         "type": "float"
        },
        {
         "name": "speechiness",
         "rawType": "float64",
         "type": "float"
        },
        {
         "name": "tempo",
         "rawType": "float64",
         "type": "float"
        },
        {
         "name": "valence",
         "rawType": "float64",
         "type": "float"
        },
        {
         "name": "popularity",
         "rawType": "int64",
         "type": "integer"
        },
        {
         "name": "duration_ms",
         "rawType": "int64",
         "type": "integer"
        }
       ],
       "ref": "bef18198-5616-4dc1-9660-78b6ec790f3f",
       "rows": [
        [
         "0",
         "Concert Intro Music - Live",
         "Licked Live In NYC",
         "2022-06-10",
         "1",
         "0.0824",
         "0.463",
         "0.993",
         "0.996",
         "0.932",
         "-12.913",
         "0.11",
         "118.001",
         "0.0302",
         "33",
         "48640"
        ],
        [
         "1",
         "Street Fighting Man - Live",
         "Licked Live In NYC",
         "2022-06-10",
         "2",
         "0.437",
         "0.326",
         "0.965",
         "0.233",
         "0.961",
         "-4.803",
         "0.0759",
         "131.455",
         "0.318",
         "34",
         "253173"
        ],
        [
         "2",
         "Start Me Up - Live",
         "Licked Live In NYC",
         "2022-06-10",
         "3",
         "0.416",
         "0.386",
         "0.969",
         "0.4",
         "0.956",
         "-4.936",
         "0.115",
         "130.066",
         "0.313",
         "34",
         "263160"
        ],
        [
         "3",
         "If You Can't Rock Me - Live",
         "Licked Live In NYC",
         "2022-06-10",
         "4",
         "0.567",
         "0.369",
         "0.985",
         "0.000107",
         "0.895",
         "-5.535",
         "0.193",
         "132.994",
         "0.147",
         "32",
         "305880"
        ],
        [
         "4",
         "Don’t Stop - Live",
         "Licked Live In NYC",
         "2022-06-10",
         "5",
         "0.4",
         "0.303",
         "0.969",
         "0.0559",
         "0.966",
         "-5.098",
         "0.093",
         "130.533",
         "0.206",
         "32",
         "305106"
        ]
       ],
       "shape": {
        "columns": 15,
        "rows": 5
       }
      },
      "text/html": [
       "<div>\n",
       "<style scoped>\n",
       "    .dataframe tbody tr th:only-of-type {\n",
       "        vertical-align: middle;\n",
       "    }\n",
       "\n",
       "    .dataframe tbody tr th {\n",
       "        vertical-align: top;\n",
       "    }\n",
       "\n",
       "    .dataframe thead th {\n",
       "        text-align: right;\n",
       "    }\n",
       "</style>\n",
       "<table border=\"1\" class=\"dataframe\">\n",
       "  <thead>\n",
       "    <tr style=\"text-align: right;\">\n",
       "      <th></th>\n",
       "      <th>name</th>\n",
       "      <th>album</th>\n",
       "      <th>release_date</th>\n",
       "      <th>track_number</th>\n",
       "      <th>acousticness</th>\n",
       "      <th>danceability</th>\n",
       "      <th>energy</th>\n",
       "      <th>instrumentalness</th>\n",
       "      <th>liveness</th>\n",
       "      <th>loudness</th>\n",
       "      <th>speechiness</th>\n",
       "      <th>tempo</th>\n",
       "      <th>valence</th>\n",
       "      <th>popularity</th>\n",
       "      <th>duration_ms</th>\n",
       "    </tr>\n",
       "  </thead>\n",
       "  <tbody>\n",
       "    <tr>\n",
       "      <th>0</th>\n",
       "      <td>Concert Intro Music - Live</td>\n",
       "      <td>Licked Live In NYC</td>\n",
       "      <td>2022-06-10</td>\n",
       "      <td>1</td>\n",
       "      <td>0.0824</td>\n",
       "      <td>0.463</td>\n",
       "      <td>0.993</td>\n",
       "      <td>0.996000</td>\n",
       "      <td>0.932</td>\n",
       "      <td>-12.913</td>\n",
       "      <td>0.1100</td>\n",
       "      <td>118.001</td>\n",
       "      <td>0.0302</td>\n",
       "      <td>33</td>\n",
       "      <td>48640</td>\n",
       "    </tr>\n",
       "    <tr>\n",
       "      <th>1</th>\n",
       "      <td>Street Fighting Man - Live</td>\n",
       "      <td>Licked Live In NYC</td>\n",
       "      <td>2022-06-10</td>\n",
       "      <td>2</td>\n",
       "      <td>0.4370</td>\n",
       "      <td>0.326</td>\n",
       "      <td>0.965</td>\n",
       "      <td>0.233000</td>\n",
       "      <td>0.961</td>\n",
       "      <td>-4.803</td>\n",
       "      <td>0.0759</td>\n",
       "      <td>131.455</td>\n",
       "      <td>0.3180</td>\n",
       "      <td>34</td>\n",
       "      <td>253173</td>\n",
       "    </tr>\n",
       "    <tr>\n",
       "      <th>2</th>\n",
       "      <td>Start Me Up - Live</td>\n",
       "      <td>Licked Live In NYC</td>\n",
       "      <td>2022-06-10</td>\n",
       "      <td>3</td>\n",
       "      <td>0.4160</td>\n",
       "      <td>0.386</td>\n",
       "      <td>0.969</td>\n",
       "      <td>0.400000</td>\n",
       "      <td>0.956</td>\n",
       "      <td>-4.936</td>\n",
       "      <td>0.1150</td>\n",
       "      <td>130.066</td>\n",
       "      <td>0.3130</td>\n",
       "      <td>34</td>\n",
       "      <td>263160</td>\n",
       "    </tr>\n",
       "    <tr>\n",
       "      <th>3</th>\n",
       "      <td>If You Can't Rock Me - Live</td>\n",
       "      <td>Licked Live In NYC</td>\n",
       "      <td>2022-06-10</td>\n",
       "      <td>4</td>\n",
       "      <td>0.5670</td>\n",
       "      <td>0.369</td>\n",
       "      <td>0.985</td>\n",
       "      <td>0.000107</td>\n",
       "      <td>0.895</td>\n",
       "      <td>-5.535</td>\n",
       "      <td>0.1930</td>\n",
       "      <td>132.994</td>\n",
       "      <td>0.1470</td>\n",
       "      <td>32</td>\n",
       "      <td>305880</td>\n",
       "    </tr>\n",
       "    <tr>\n",
       "      <th>4</th>\n",
       "      <td>Don’t Stop - Live</td>\n",
       "      <td>Licked Live In NYC</td>\n",
       "      <td>2022-06-10</td>\n",
       "      <td>5</td>\n",
       "      <td>0.4000</td>\n",
       "      <td>0.303</td>\n",
       "      <td>0.969</td>\n",
       "      <td>0.055900</td>\n",
       "      <td>0.966</td>\n",
       "      <td>-5.098</td>\n",
       "      <td>0.0930</td>\n",
       "      <td>130.533</td>\n",
       "      <td>0.2060</td>\n",
       "      <td>32</td>\n",
       "      <td>305106</td>\n",
       "    </tr>\n",
       "  </tbody>\n",
       "</table>\n",
       "</div>"
      ],
      "text/plain": [
       "                          name               album release_date  track_number  \\\n",
       "0   Concert Intro Music - Live  Licked Live In NYC   2022-06-10             1   \n",
       "1   Street Fighting Man - Live  Licked Live In NYC   2022-06-10             2   \n",
       "2           Start Me Up - Live  Licked Live In NYC   2022-06-10             3   \n",
       "3  If You Can't Rock Me - Live  Licked Live In NYC   2022-06-10             4   \n",
       "4            Don’t Stop - Live  Licked Live In NYC   2022-06-10             5   \n",
       "\n",
       "   acousticness  danceability  energy  instrumentalness  liveness  loudness  \\\n",
       "0        0.0824         0.463   0.993          0.996000     0.932   -12.913   \n",
       "1        0.4370         0.326   0.965          0.233000     0.961    -4.803   \n",
       "2        0.4160         0.386   0.969          0.400000     0.956    -4.936   \n",
       "3        0.5670         0.369   0.985          0.000107     0.895    -5.535   \n",
       "4        0.4000         0.303   0.969          0.055900     0.966    -5.098   \n",
       "\n",
       "   speechiness    tempo  valence  popularity  duration_ms  \n",
       "0       0.1100  118.001   0.0302          33        48640  \n",
       "1       0.0759  131.455   0.3180          34       253173  \n",
       "2       0.1150  130.066   0.3130          34       263160  \n",
       "3       0.1930  132.994   0.1470          32       305880  \n",
       "4       0.0930  130.533   0.2060          32       305106  "
      ]
     },
     "execution_count": 6,
     "metadata": {},
     "output_type": "execute_result"
    }
   ],
   "source": [
    "df.head()"
   ]
  },
  {
   "cell_type": "code",
   "execution_count": 7,
   "id": "c3213745",
   "metadata": {},
   "outputs": [
    {
     "name": "stdout",
     "output_type": "stream",
     "text": [
      "<class 'pandas.core.frame.DataFrame'>\n",
      "RangeIndex: 1610 entries, 0 to 1609\n",
      "Data columns (total 15 columns):\n",
      " #   Column            Non-Null Count  Dtype  \n",
      "---  ------            --------------  -----  \n",
      " 0   name              1610 non-null   object \n",
      " 1   album             1610 non-null   object \n",
      " 2   release_date      1610 non-null   object \n",
      " 3   track_number      1610 non-null   int64  \n",
      " 4   acousticness      1610 non-null   float64\n",
      " 5   danceability      1610 non-null   float64\n",
      " 6   energy            1610 non-null   float64\n",
      " 7   instrumentalness  1610 non-null   float64\n",
      " 8   liveness          1610 non-null   float64\n",
      " 9   loudness          1610 non-null   float64\n",
      " 10  speechiness       1610 non-null   float64\n",
      " 11  tempo             1610 non-null   float64\n",
      " 12  valence           1610 non-null   float64\n",
      " 13  popularity        1610 non-null   int64  \n",
      " 14  duration_ms       1610 non-null   int64  \n",
      "dtypes: float64(9), int64(3), object(3)\n",
      "memory usage: 188.8+ KB\n"
     ]
    }
   ],
   "source": [
    "df.info()"
   ]
  },
  {
   "cell_type": "code",
   "execution_count": 8,
   "id": "db95f815",
   "metadata": {},
   "outputs": [],
   "source": [
    "df['release_date'] = pd.to_datetime(df['release_date'], errors='coerce')"
   ]
  },
  {
   "cell_type": "code",
   "execution_count": 9,
   "id": "ed957625",
   "metadata": {},
   "outputs": [
    {
     "name": "stdout",
     "output_type": "stream",
     "text": [
      "<class 'pandas.core.frame.DataFrame'>\n",
      "RangeIndex: 1610 entries, 0 to 1609\n",
      "Data columns (total 15 columns):\n",
      " #   Column            Non-Null Count  Dtype         \n",
      "---  ------            --------------  -----         \n",
      " 0   name              1610 non-null   object        \n",
      " 1   album             1610 non-null   object        \n",
      " 2   release_date      1610 non-null   datetime64[ns]\n",
      " 3   track_number      1610 non-null   int64         \n",
      " 4   acousticness      1610 non-null   float64       \n",
      " 5   danceability      1610 non-null   float64       \n",
      " 6   energy            1610 non-null   float64       \n",
      " 7   instrumentalness  1610 non-null   float64       \n",
      " 8   liveness          1610 non-null   float64       \n",
      " 9   loudness          1610 non-null   float64       \n",
      " 10  speechiness       1610 non-null   float64       \n",
      " 11  tempo             1610 non-null   float64       \n",
      " 12  valence           1610 non-null   float64       \n",
      " 13  popularity        1610 non-null   int64         \n",
      " 14  duration_ms       1610 non-null   int64         \n",
      "dtypes: datetime64[ns](1), float64(9), int64(3), object(2)\n",
      "memory usage: 188.8+ KB\n"
     ]
    }
   ],
   "source": [
    "df.info()"
   ]
  },
  {
   "cell_type": "code",
   "execution_count": 10,
   "id": "786fafea",
   "metadata": {},
   "outputs": [
    {
     "data": {
      "application/vnd.microsoft.datawrangler.viewer.v0+json": {
       "columns": [
        {
         "name": "index",
         "rawType": "int64",
         "type": "integer"
        },
        {
         "name": "name",
         "rawType": "object",
         "type": "string"
        },
        {
         "name": "album",
         "rawType": "object",
         "type": "string"
        },
        {
         "name": "release_date",
         "rawType": "datetime64[ns]",
         "type": "datetime"
        },
        {
         "name": "track_number",
         "rawType": "int64",
         "type": "integer"
        },
        {
         "name": "acousticness",
         "rawType": "float64",
         "type": "float"
        },
        {
         "name": "danceability",
         "rawType": "float64",
         "type": "float"
        },
        {
         "name": "energy",
         "rawType": "float64",
         "type": "float"
        },
        {
         "name": "instrumentalness",
         "rawType": "float64",
         "type": "float"
        },
        {
         "name": "liveness",
         "rawType": "float64",
         "type": "float"
        },
        {
         "name": "loudness",
         "rawType": "float64",
         "type": "float"
        },
        {
         "name": "speechiness",
         "rawType": "float64",
         "type": "float"
        },
        {
         "name": "tempo",
         "rawType": "float64",
         "type": "float"
        },
        {
         "name": "valence",
         "rawType": "float64",
         "type": "float"
        },
        {
         "name": "popularity",
         "rawType": "int64",
         "type": "integer"
        },
        {
         "name": "duration_ms",
         "rawType": "int64",
         "type": "integer"
        }
       ],
       "ref": "77ee78ab-0aa6-4ab2-9a61-e7b056d9b06c",
       "rows": [
        [
         "0",
         "Concert Intro Music - Live",
         "Licked Live In NYC",
         "2022-06-10 00:00:00",
         "1",
         "0.0824",
         "0.463",
         "0.993",
         "0.996",
         "0.932",
         "-12.913",
         "0.11",
         "118.001",
         "0.0302",
         "33",
         "48640"
        ],
        [
         "1",
         "Street Fighting Man - Live",
         "Licked Live In NYC",
         "2022-06-10 00:00:00",
         "2",
         "0.437",
         "0.326",
         "0.965",
         "0.233",
         "0.961",
         "-4.803",
         "0.0759",
         "131.455",
         "0.318",
         "34",
         "253173"
        ],
        [
         "2",
         "Start Me Up - Live",
         "Licked Live In NYC",
         "2022-06-10 00:00:00",
         "3",
         "0.416",
         "0.386",
         "0.969",
         "0.4",
         "0.956",
         "-4.936",
         "0.115",
         "130.066",
         "0.313",
         "34",
         "263160"
        ],
        [
         "3",
         "If You Can't Rock Me - Live",
         "Licked Live In NYC",
         "2022-06-10 00:00:00",
         "4",
         "0.567",
         "0.369",
         "0.985",
         "0.000107",
         "0.895",
         "-5.535",
         "0.193",
         "132.994",
         "0.147",
         "32",
         "305880"
        ],
        [
         "4",
         "Don’t Stop - Live",
         "Licked Live In NYC",
         "2022-06-10 00:00:00",
         "5",
         "0.4",
         "0.303",
         "0.969",
         "0.0559",
         "0.966",
         "-5.098",
         "0.093",
         "130.533",
         "0.206",
         "32",
         "305106"
        ]
       ],
       "shape": {
        "columns": 15,
        "rows": 5
       }
      },
      "text/html": [
       "<div>\n",
       "<style scoped>\n",
       "    .dataframe tbody tr th:only-of-type {\n",
       "        vertical-align: middle;\n",
       "    }\n",
       "\n",
       "    .dataframe tbody tr th {\n",
       "        vertical-align: top;\n",
       "    }\n",
       "\n",
       "    .dataframe thead th {\n",
       "        text-align: right;\n",
       "    }\n",
       "</style>\n",
       "<table border=\"1\" class=\"dataframe\">\n",
       "  <thead>\n",
       "    <tr style=\"text-align: right;\">\n",
       "      <th></th>\n",
       "      <th>name</th>\n",
       "      <th>album</th>\n",
       "      <th>release_date</th>\n",
       "      <th>track_number</th>\n",
       "      <th>acousticness</th>\n",
       "      <th>danceability</th>\n",
       "      <th>energy</th>\n",
       "      <th>instrumentalness</th>\n",
       "      <th>liveness</th>\n",
       "      <th>loudness</th>\n",
       "      <th>speechiness</th>\n",
       "      <th>tempo</th>\n",
       "      <th>valence</th>\n",
       "      <th>popularity</th>\n",
       "      <th>duration_ms</th>\n",
       "    </tr>\n",
       "  </thead>\n",
       "  <tbody>\n",
       "    <tr>\n",
       "      <th>0</th>\n",
       "      <td>Concert Intro Music - Live</td>\n",
       "      <td>Licked Live In NYC</td>\n",
       "      <td>2022-06-10</td>\n",
       "      <td>1</td>\n",
       "      <td>0.0824</td>\n",
       "      <td>0.463</td>\n",
       "      <td>0.993</td>\n",
       "      <td>0.996000</td>\n",
       "      <td>0.932</td>\n",
       "      <td>-12.913</td>\n",
       "      <td>0.1100</td>\n",
       "      <td>118.001</td>\n",
       "      <td>0.0302</td>\n",
       "      <td>33</td>\n",
       "      <td>48640</td>\n",
       "    </tr>\n",
       "    <tr>\n",
       "      <th>1</th>\n",
       "      <td>Street Fighting Man - Live</td>\n",
       "      <td>Licked Live In NYC</td>\n",
       "      <td>2022-06-10</td>\n",
       "      <td>2</td>\n",
       "      <td>0.4370</td>\n",
       "      <td>0.326</td>\n",
       "      <td>0.965</td>\n",
       "      <td>0.233000</td>\n",
       "      <td>0.961</td>\n",
       "      <td>-4.803</td>\n",
       "      <td>0.0759</td>\n",
       "      <td>131.455</td>\n",
       "      <td>0.3180</td>\n",
       "      <td>34</td>\n",
       "      <td>253173</td>\n",
       "    </tr>\n",
       "    <tr>\n",
       "      <th>2</th>\n",
       "      <td>Start Me Up - Live</td>\n",
       "      <td>Licked Live In NYC</td>\n",
       "      <td>2022-06-10</td>\n",
       "      <td>3</td>\n",
       "      <td>0.4160</td>\n",
       "      <td>0.386</td>\n",
       "      <td>0.969</td>\n",
       "      <td>0.400000</td>\n",
       "      <td>0.956</td>\n",
       "      <td>-4.936</td>\n",
       "      <td>0.1150</td>\n",
       "      <td>130.066</td>\n",
       "      <td>0.3130</td>\n",
       "      <td>34</td>\n",
       "      <td>263160</td>\n",
       "    </tr>\n",
       "    <tr>\n",
       "      <th>3</th>\n",
       "      <td>If You Can't Rock Me - Live</td>\n",
       "      <td>Licked Live In NYC</td>\n",
       "      <td>2022-06-10</td>\n",
       "      <td>4</td>\n",
       "      <td>0.5670</td>\n",
       "      <td>0.369</td>\n",
       "      <td>0.985</td>\n",
       "      <td>0.000107</td>\n",
       "      <td>0.895</td>\n",
       "      <td>-5.535</td>\n",
       "      <td>0.1930</td>\n",
       "      <td>132.994</td>\n",
       "      <td>0.1470</td>\n",
       "      <td>32</td>\n",
       "      <td>305880</td>\n",
       "    </tr>\n",
       "    <tr>\n",
       "      <th>4</th>\n",
       "      <td>Don’t Stop - Live</td>\n",
       "      <td>Licked Live In NYC</td>\n",
       "      <td>2022-06-10</td>\n",
       "      <td>5</td>\n",
       "      <td>0.4000</td>\n",
       "      <td>0.303</td>\n",
       "      <td>0.969</td>\n",
       "      <td>0.055900</td>\n",
       "      <td>0.966</td>\n",
       "      <td>-5.098</td>\n",
       "      <td>0.0930</td>\n",
       "      <td>130.533</td>\n",
       "      <td>0.2060</td>\n",
       "      <td>32</td>\n",
       "      <td>305106</td>\n",
       "    </tr>\n",
       "  </tbody>\n",
       "</table>\n",
       "</div>"
      ],
      "text/plain": [
       "                          name               album release_date  track_number  \\\n",
       "0   Concert Intro Music - Live  Licked Live In NYC   2022-06-10             1   \n",
       "1   Street Fighting Man - Live  Licked Live In NYC   2022-06-10             2   \n",
       "2           Start Me Up - Live  Licked Live In NYC   2022-06-10             3   \n",
       "3  If You Can't Rock Me - Live  Licked Live In NYC   2022-06-10             4   \n",
       "4            Don’t Stop - Live  Licked Live In NYC   2022-06-10             5   \n",
       "\n",
       "   acousticness  danceability  energy  instrumentalness  liveness  loudness  \\\n",
       "0        0.0824         0.463   0.993          0.996000     0.932   -12.913   \n",
       "1        0.4370         0.326   0.965          0.233000     0.961    -4.803   \n",
       "2        0.4160         0.386   0.969          0.400000     0.956    -4.936   \n",
       "3        0.5670         0.369   0.985          0.000107     0.895    -5.535   \n",
       "4        0.4000         0.303   0.969          0.055900     0.966    -5.098   \n",
       "\n",
       "   speechiness    tempo  valence  popularity  duration_ms  \n",
       "0       0.1100  118.001   0.0302          33        48640  \n",
       "1       0.0759  131.455   0.3180          34       253173  \n",
       "2       0.1150  130.066   0.3130          34       263160  \n",
       "3       0.1930  132.994   0.1470          32       305880  \n",
       "4       0.0930  130.533   0.2060          32       305106  "
      ]
     },
     "execution_count": 10,
     "metadata": {},
     "output_type": "execute_result"
    }
   ],
   "source": [
    "df.head()"
   ]
  },
  {
   "cell_type": "code",
   "execution_count": 11,
   "id": "a2221fef",
   "metadata": {},
   "outputs": [
    {
     "data": {
      "text/plain": [
       "(1610, 15)"
      ]
     },
     "execution_count": 11,
     "metadata": {},
     "output_type": "execute_result"
    }
   ],
   "source": [
    "df.shape"
   ]
  },
  {
   "cell_type": "code",
   "execution_count": 12,
   "id": "48106e07",
   "metadata": {},
   "outputs": [
    {
     "name": "stdout",
     "output_type": "stream",
     "text": [
      "Data inicial:  1964-04-16 00:00:00\n"
     ]
    }
   ],
   "source": [
    "print('Data inicial: ', df['release_date'].min())"
   ]
  },
  {
   "cell_type": "code",
   "execution_count": 13,
   "id": "38c22aa5",
   "metadata": {},
   "outputs": [
    {
     "name": "stdout",
     "output_type": "stream",
     "text": [
      "Data Final:  2022-06-10 00:00:00\n"
     ]
    }
   ],
   "source": [
    "print('Data Final: ', df['release_date'].max())"
   ]
  },
  {
   "cell_type": "code",
   "execution_count": 14,
   "id": "924fee67",
   "metadata": {},
   "outputs": [
    {
     "data": {
      "application/vnd.microsoft.datawrangler.viewer.v0+json": {
       "columns": [
        {
         "name": "index",
         "rawType": "object",
         "type": "string"
        },
        {
         "name": "0",
         "rawType": "int64",
         "type": "integer"
        }
       ],
       "ref": "c0a33a70-d43e-4a46-a806-46554117934d",
       "rows": [
        [
         "name",
         "0"
        ],
        [
         "album",
         "0"
        ],
        [
         "release_date",
         "0"
        ],
        [
         "track_number",
         "0"
        ],
        [
         "acousticness",
         "0"
        ],
        [
         "danceability",
         "0"
        ],
        [
         "energy",
         "0"
        ],
        [
         "instrumentalness",
         "0"
        ],
        [
         "liveness",
         "0"
        ],
        [
         "loudness",
         "0"
        ],
        [
         "speechiness",
         "0"
        ],
        [
         "tempo",
         "0"
        ],
        [
         "valence",
         "0"
        ],
        [
         "popularity",
         "0"
        ],
        [
         "duration_ms",
         "0"
        ]
       ],
       "shape": {
        "columns": 1,
        "rows": 15
       }
      },
      "text/plain": [
       "name                0\n",
       "album               0\n",
       "release_date        0\n",
       "track_number        0\n",
       "acousticness        0\n",
       "danceability        0\n",
       "energy              0\n",
       "instrumentalness    0\n",
       "liveness            0\n",
       "loudness            0\n",
       "speechiness         0\n",
       "tempo               0\n",
       "valence             0\n",
       "popularity          0\n",
       "duration_ms         0\n",
       "dtype: int64"
      ]
     },
     "execution_count": 14,
     "metadata": {},
     "output_type": "execute_result"
    }
   ],
   "source": [
    "df.isnull().sum()"
   ]
  },
  {
   "cell_type": "code",
   "execution_count": 15,
   "id": "194230f8",
   "metadata": {},
   "outputs": [
    {
     "data": {
      "text/plain": [
       "np.int64(6)"
      ]
     },
     "execution_count": 15,
     "metadata": {},
     "output_type": "execute_result"
    }
   ],
   "source": [
    "df.duplicated().sum()"
   ]
  },
  {
   "cell_type": "code",
   "execution_count": 16,
   "id": "2fb35cbe",
   "metadata": {},
   "outputs": [
    {
     "data": {
      "application/vnd.microsoft.datawrangler.viewer.v0+json": {
       "columns": [
        {
         "name": "index",
         "rawType": "int64",
         "type": "integer"
        },
        {
         "name": "name",
         "rawType": "object",
         "type": "string"
        },
        {
         "name": "album",
         "rawType": "object",
         "type": "string"
        },
        {
         "name": "release_date",
         "rawType": "datetime64[ns]",
         "type": "datetime"
        },
        {
         "name": "track_number",
         "rawType": "int64",
         "type": "integer"
        },
        {
         "name": "acousticness",
         "rawType": "float64",
         "type": "float"
        },
        {
         "name": "danceability",
         "rawType": "float64",
         "type": "float"
        },
        {
         "name": "energy",
         "rawType": "float64",
         "type": "float"
        },
        {
         "name": "instrumentalness",
         "rawType": "float64",
         "type": "float"
        },
        {
         "name": "liveness",
         "rawType": "float64",
         "type": "float"
        },
        {
         "name": "loudness",
         "rawType": "float64",
         "type": "float"
        },
        {
         "name": "speechiness",
         "rawType": "float64",
         "type": "float"
        },
        {
         "name": "tempo",
         "rawType": "float64",
         "type": "float"
        },
        {
         "name": "valence",
         "rawType": "float64",
         "type": "float"
        },
        {
         "name": "popularity",
         "rawType": "int64",
         "type": "integer"
        },
        {
         "name": "duration_ms",
         "rawType": "int64",
         "type": "integer"
        }
       ],
       "ref": "d5369f5f-b1bd-4571-adcb-40ba9e7f28d9",
       "rows": [
        [
         "928",
         "Some Girls - Remastered",
         "Some Girls (Deluxe Version)",
         "1978-06-09 00:00:00",
         "4",
         "0.527",
         "0.474",
         "0.938",
         "0.52",
         "0.299",
         "-2.643",
         "0.0898",
         "71.995",
         "0.505",
         "21",
         "276933"
        ],
        [
         "929",
         "Lies - Remastered",
         "Some Girls (Deluxe Version)",
         "1978-06-09 00:00:00",
         "5",
         "0.437",
         "0.382",
         "0.997",
         "0.95",
         "0.617",
         "-1.568",
         "0.188",
         "162.428",
         "0.563",
         "16",
         "191266"
        ],
        [
         "935",
         "Claudine",
         "Some Girls (Deluxe Version)",
         "1978-06-09 00:00:00",
         "1",
         "0.0144",
         "0.439",
         "0.977",
         "0.0221",
         "0.383",
         "-4.386",
         "0.128",
         "105.124",
         "0.364",
         "17",
         "222253"
        ],
        [
         "939",
         "No Spare Parts",
         "Some Girls (Deluxe Version)",
         "1978-06-09 00:00:00",
         "5",
         "0.24",
         "0.594",
         "0.762",
         "1.52e-05",
         "0.712",
         "-5.145",
         "0.0292",
         "72.648",
         "0.54",
         "19",
         "270466"
        ],
        [
         "940",
         "Don't Be A Stranger",
         "Some Girls (Deluxe Version)",
         "1978-06-09 00:00:00",
         "6",
         "0.061",
         "0.72",
         "0.867",
         "0.0297",
         "0.385",
         "-5.871",
         "0.039",
         "127.329",
         "0.847",
         "15",
         "246266"
        ],
        [
         "946",
         "Petrol Blues",
         "Some Girls (Deluxe Version)",
         "1978-06-09 00:00:00",
         "12",
         "0.769",
         "0.835",
         "0.621",
         "0.114",
         "0.116",
         "-8.007",
         "0.0406",
         "115.87",
         "0.336",
         "13",
         "95626"
        ]
       ],
       "shape": {
        "columns": 15,
        "rows": 6
       }
      },
      "text/html": [
       "<div>\n",
       "<style scoped>\n",
       "    .dataframe tbody tr th:only-of-type {\n",
       "        vertical-align: middle;\n",
       "    }\n",
       "\n",
       "    .dataframe tbody tr th {\n",
       "        vertical-align: top;\n",
       "    }\n",
       "\n",
       "    .dataframe thead th {\n",
       "        text-align: right;\n",
       "    }\n",
       "</style>\n",
       "<table border=\"1\" class=\"dataframe\">\n",
       "  <thead>\n",
       "    <tr style=\"text-align: right;\">\n",
       "      <th></th>\n",
       "      <th>name</th>\n",
       "      <th>album</th>\n",
       "      <th>release_date</th>\n",
       "      <th>track_number</th>\n",
       "      <th>acousticness</th>\n",
       "      <th>danceability</th>\n",
       "      <th>energy</th>\n",
       "      <th>instrumentalness</th>\n",
       "      <th>liveness</th>\n",
       "      <th>loudness</th>\n",
       "      <th>speechiness</th>\n",
       "      <th>tempo</th>\n",
       "      <th>valence</th>\n",
       "      <th>popularity</th>\n",
       "      <th>duration_ms</th>\n",
       "    </tr>\n",
       "  </thead>\n",
       "  <tbody>\n",
       "    <tr>\n",
       "      <th>928</th>\n",
       "      <td>Some Girls - Remastered</td>\n",
       "      <td>Some Girls (Deluxe Version)</td>\n",
       "      <td>1978-06-09</td>\n",
       "      <td>4</td>\n",
       "      <td>0.5270</td>\n",
       "      <td>0.474</td>\n",
       "      <td>0.938</td>\n",
       "      <td>0.520000</td>\n",
       "      <td>0.299</td>\n",
       "      <td>-2.643</td>\n",
       "      <td>0.0898</td>\n",
       "      <td>71.995</td>\n",
       "      <td>0.505</td>\n",
       "      <td>21</td>\n",
       "      <td>276933</td>\n",
       "    </tr>\n",
       "    <tr>\n",
       "      <th>929</th>\n",
       "      <td>Lies - Remastered</td>\n",
       "      <td>Some Girls (Deluxe Version)</td>\n",
       "      <td>1978-06-09</td>\n",
       "      <td>5</td>\n",
       "      <td>0.4370</td>\n",
       "      <td>0.382</td>\n",
       "      <td>0.997</td>\n",
       "      <td>0.950000</td>\n",
       "      <td>0.617</td>\n",
       "      <td>-1.568</td>\n",
       "      <td>0.1880</td>\n",
       "      <td>162.428</td>\n",
       "      <td>0.563</td>\n",
       "      <td>16</td>\n",
       "      <td>191266</td>\n",
       "    </tr>\n",
       "    <tr>\n",
       "      <th>935</th>\n",
       "      <td>Claudine</td>\n",
       "      <td>Some Girls (Deluxe Version)</td>\n",
       "      <td>1978-06-09</td>\n",
       "      <td>1</td>\n",
       "      <td>0.0144</td>\n",
       "      <td>0.439</td>\n",
       "      <td>0.977</td>\n",
       "      <td>0.022100</td>\n",
       "      <td>0.383</td>\n",
       "      <td>-4.386</td>\n",
       "      <td>0.1280</td>\n",
       "      <td>105.124</td>\n",
       "      <td>0.364</td>\n",
       "      <td>17</td>\n",
       "      <td>222253</td>\n",
       "    </tr>\n",
       "    <tr>\n",
       "      <th>939</th>\n",
       "      <td>No Spare Parts</td>\n",
       "      <td>Some Girls (Deluxe Version)</td>\n",
       "      <td>1978-06-09</td>\n",
       "      <td>5</td>\n",
       "      <td>0.2400</td>\n",
       "      <td>0.594</td>\n",
       "      <td>0.762</td>\n",
       "      <td>0.000015</td>\n",
       "      <td>0.712</td>\n",
       "      <td>-5.145</td>\n",
       "      <td>0.0292</td>\n",
       "      <td>72.648</td>\n",
       "      <td>0.540</td>\n",
       "      <td>19</td>\n",
       "      <td>270466</td>\n",
       "    </tr>\n",
       "    <tr>\n",
       "      <th>940</th>\n",
       "      <td>Don't Be A Stranger</td>\n",
       "      <td>Some Girls (Deluxe Version)</td>\n",
       "      <td>1978-06-09</td>\n",
       "      <td>6</td>\n",
       "      <td>0.0610</td>\n",
       "      <td>0.720</td>\n",
       "      <td>0.867</td>\n",
       "      <td>0.029700</td>\n",
       "      <td>0.385</td>\n",
       "      <td>-5.871</td>\n",
       "      <td>0.0390</td>\n",
       "      <td>127.329</td>\n",
       "      <td>0.847</td>\n",
       "      <td>15</td>\n",
       "      <td>246266</td>\n",
       "    </tr>\n",
       "    <tr>\n",
       "      <th>946</th>\n",
       "      <td>Petrol Blues</td>\n",
       "      <td>Some Girls (Deluxe Version)</td>\n",
       "      <td>1978-06-09</td>\n",
       "      <td>12</td>\n",
       "      <td>0.7690</td>\n",
       "      <td>0.835</td>\n",
       "      <td>0.621</td>\n",
       "      <td>0.114000</td>\n",
       "      <td>0.116</td>\n",
       "      <td>-8.007</td>\n",
       "      <td>0.0406</td>\n",
       "      <td>115.870</td>\n",
       "      <td>0.336</td>\n",
       "      <td>13</td>\n",
       "      <td>95626</td>\n",
       "    </tr>\n",
       "  </tbody>\n",
       "</table>\n",
       "</div>"
      ],
      "text/plain": [
       "                        name                        album release_date  \\\n",
       "928  Some Girls - Remastered  Some Girls (Deluxe Version)   1978-06-09   \n",
       "929        Lies - Remastered  Some Girls (Deluxe Version)   1978-06-09   \n",
       "935                 Claudine  Some Girls (Deluxe Version)   1978-06-09   \n",
       "939           No Spare Parts  Some Girls (Deluxe Version)   1978-06-09   \n",
       "940      Don't Be A Stranger  Some Girls (Deluxe Version)   1978-06-09   \n",
       "946             Petrol Blues  Some Girls (Deluxe Version)   1978-06-09   \n",
       "\n",
       "     track_number  acousticness  danceability  energy  instrumentalness  \\\n",
       "928             4        0.5270         0.474   0.938          0.520000   \n",
       "929             5        0.4370         0.382   0.997          0.950000   \n",
       "935             1        0.0144         0.439   0.977          0.022100   \n",
       "939             5        0.2400         0.594   0.762          0.000015   \n",
       "940             6        0.0610         0.720   0.867          0.029700   \n",
       "946            12        0.7690         0.835   0.621          0.114000   \n",
       "\n",
       "     liveness  loudness  speechiness    tempo  valence  popularity  \\\n",
       "928     0.299    -2.643       0.0898   71.995    0.505          21   \n",
       "929     0.617    -1.568       0.1880  162.428    0.563          16   \n",
       "935     0.383    -4.386       0.1280  105.124    0.364          17   \n",
       "939     0.712    -5.145       0.0292   72.648    0.540          19   \n",
       "940     0.385    -5.871       0.0390  127.329    0.847          15   \n",
       "946     0.116    -8.007       0.0406  115.870    0.336          13   \n",
       "\n",
       "     duration_ms  \n",
       "928       276933  \n",
       "929       191266  \n",
       "935       222253  \n",
       "939       270466  \n",
       "940       246266  \n",
       "946        95626  "
      ]
     },
     "execution_count": 16,
     "metadata": {},
     "output_type": "execute_result"
    }
   ],
   "source": [
    "df[df.duplicated()]"
   ]
  },
  {
   "cell_type": "code",
   "execution_count": 17,
   "id": "ce80991a",
   "metadata": {},
   "outputs": [
    {
     "data": {
      "application/vnd.microsoft.datawrangler.viewer.v0+json": {
       "columns": [
        {
         "name": "index",
         "rawType": "object",
         "type": "string"
        },
        {
         "name": "release_date",
         "rawType": "object",
         "type": "unknown"
        },
        {
         "name": "track_number",
         "rawType": "float64",
         "type": "float"
        },
        {
         "name": "acousticness",
         "rawType": "float64",
         "type": "float"
        },
        {
         "name": "danceability",
         "rawType": "float64",
         "type": "float"
        },
        {
         "name": "energy",
         "rawType": "float64",
         "type": "float"
        },
        {
         "name": "instrumentalness",
         "rawType": "float64",
         "type": "float"
        },
        {
         "name": "liveness",
         "rawType": "float64",
         "type": "float"
        },
        {
         "name": "loudness",
         "rawType": "float64",
         "type": "float"
        },
        {
         "name": "speechiness",
         "rawType": "float64",
         "type": "float"
        },
        {
         "name": "tempo",
         "rawType": "float64",
         "type": "float"
        },
        {
         "name": "valence",
         "rawType": "float64",
         "type": "float"
        },
        {
         "name": "popularity",
         "rawType": "float64",
         "type": "float"
        },
        {
         "name": "duration_ms",
         "rawType": "float64",
         "type": "float"
        }
       ],
       "ref": "9d39e500-b5ef-4990-8b6a-3c4d08760bef",
       "rows": [
        [
         "count",
         "1610",
         "1610.0",
         "1610.0",
         "1610.0",
         "1610.0",
         "1610.0",
         "1610.0",
         "1610.0",
         "1610.0",
         "1610.0",
         "1610.0",
         "1610.0",
         "1610.0"
        ],
        [
         "mean",
         "1992-04-23 12:57:14.534161536",
         "8.613664596273292",
         "0.2504747648757764",
         "0.46885962732919256",
         "0.7923521739130435",
         "0.1641697790869565",
         "0.4917296273291924",
         "-6.971614906832298",
         "0.06951242236024846",
         "126.08203291925464",
         "0.5821654658385093",
         "20.788198757763976",
         "257736.48819875775"
        ],
        [
         "min",
         "1964-04-16 00:00:00",
         "1.0",
         "8.94e-06",
         "0.104",
         "0.141",
         "0.0",
         "0.0219",
         "-24.408",
         "0.0232",
         "46.525",
         "0.0",
         "0.0",
         "21000.0"
        ],
        [
         "25%",
         "1970-09-04 00:00:00",
         "4.0",
         "0.05835",
         "0.36224999999999996",
         "0.674",
         "0.00021925000000000002",
         "0.153",
         "-8.9825",
         "0.0365",
         "107.39075",
         "0.40425",
         "13.0",
         "190613.0"
        ],
        [
         "50%",
         "1986-03-24 00:00:00",
         "7.0",
         "0.183",
         "0.458",
         "0.8485",
         "0.01375",
         "0.3795",
         "-6.523",
         "0.0512",
         "124.4045",
         "0.583",
         "20.0",
         "243093.0"
        ],
        [
         "75%",
         "2017-12-01 00:00:00",
         "11.0",
         "0.40375000000000005",
         "0.578",
         "0.945",
         "0.179",
         "0.89375",
         "-4.60875",
         "0.0866",
         "142.35575",
         "0.778",
         "27.0",
         "295319.75"
        ],
        [
         "max",
         "2022-06-10 00:00:00",
         "47.0",
         "0.994",
         "0.887",
         "0.999",
         "0.996",
         "0.998",
         "-1.014",
         "0.624",
         "216.304",
         "0.974",
         "80.0",
         "981866.0"
        ],
        [
         "std",
         null,
         "6.560219653419199",
         "0.2273968923468458",
         "0.1417750524297936",
         "0.17988583030268485",
         "0.2762487405581575",
         "0.3490996115969464",
         "2.994002677328004",
         "0.05163137058571898",
         "29.233482856201476",
         "0.2312527978899838",
         "12.426859374735498",
         "108333.47492032833"
        ]
       ],
       "shape": {
        "columns": 13,
        "rows": 8
       }
      },
      "text/html": [
       "<div>\n",
       "<style scoped>\n",
       "    .dataframe tbody tr th:only-of-type {\n",
       "        vertical-align: middle;\n",
       "    }\n",
       "\n",
       "    .dataframe tbody tr th {\n",
       "        vertical-align: top;\n",
       "    }\n",
       "\n",
       "    .dataframe thead th {\n",
       "        text-align: right;\n",
       "    }\n",
       "</style>\n",
       "<table border=\"1\" class=\"dataframe\">\n",
       "  <thead>\n",
       "    <tr style=\"text-align: right;\">\n",
       "      <th></th>\n",
       "      <th>release_date</th>\n",
       "      <th>track_number</th>\n",
       "      <th>acousticness</th>\n",
       "      <th>danceability</th>\n",
       "      <th>energy</th>\n",
       "      <th>instrumentalness</th>\n",
       "      <th>liveness</th>\n",
       "      <th>loudness</th>\n",
       "      <th>speechiness</th>\n",
       "      <th>tempo</th>\n",
       "      <th>valence</th>\n",
       "      <th>popularity</th>\n",
       "      <th>duration_ms</th>\n",
       "    </tr>\n",
       "  </thead>\n",
       "  <tbody>\n",
       "    <tr>\n",
       "      <th>count</th>\n",
       "      <td>1610</td>\n",
       "      <td>1610.000000</td>\n",
       "      <td>1610.000000</td>\n",
       "      <td>1610.000000</td>\n",
       "      <td>1610.000000</td>\n",
       "      <td>1610.000000</td>\n",
       "      <td>1610.00000</td>\n",
       "      <td>1610.000000</td>\n",
       "      <td>1610.000000</td>\n",
       "      <td>1610.000000</td>\n",
       "      <td>1610.000000</td>\n",
       "      <td>1610.000000</td>\n",
       "      <td>1610.000000</td>\n",
       "    </tr>\n",
       "    <tr>\n",
       "      <th>mean</th>\n",
       "      <td>1992-04-23 12:57:14.534161536</td>\n",
       "      <td>8.613665</td>\n",
       "      <td>0.250475</td>\n",
       "      <td>0.468860</td>\n",
       "      <td>0.792352</td>\n",
       "      <td>0.164170</td>\n",
       "      <td>0.49173</td>\n",
       "      <td>-6.971615</td>\n",
       "      <td>0.069512</td>\n",
       "      <td>126.082033</td>\n",
       "      <td>0.582165</td>\n",
       "      <td>20.788199</td>\n",
       "      <td>257736.488199</td>\n",
       "    </tr>\n",
       "    <tr>\n",
       "      <th>min</th>\n",
       "      <td>1964-04-16 00:00:00</td>\n",
       "      <td>1.000000</td>\n",
       "      <td>0.000009</td>\n",
       "      <td>0.104000</td>\n",
       "      <td>0.141000</td>\n",
       "      <td>0.000000</td>\n",
       "      <td>0.02190</td>\n",
       "      <td>-24.408000</td>\n",
       "      <td>0.023200</td>\n",
       "      <td>46.525000</td>\n",
       "      <td>0.000000</td>\n",
       "      <td>0.000000</td>\n",
       "      <td>21000.000000</td>\n",
       "    </tr>\n",
       "    <tr>\n",
       "      <th>25%</th>\n",
       "      <td>1970-09-04 00:00:00</td>\n",
       "      <td>4.000000</td>\n",
       "      <td>0.058350</td>\n",
       "      <td>0.362250</td>\n",
       "      <td>0.674000</td>\n",
       "      <td>0.000219</td>\n",
       "      <td>0.15300</td>\n",
       "      <td>-8.982500</td>\n",
       "      <td>0.036500</td>\n",
       "      <td>107.390750</td>\n",
       "      <td>0.404250</td>\n",
       "      <td>13.000000</td>\n",
       "      <td>190613.000000</td>\n",
       "    </tr>\n",
       "    <tr>\n",
       "      <th>50%</th>\n",
       "      <td>1986-03-24 00:00:00</td>\n",
       "      <td>7.000000</td>\n",
       "      <td>0.183000</td>\n",
       "      <td>0.458000</td>\n",
       "      <td>0.848500</td>\n",
       "      <td>0.013750</td>\n",
       "      <td>0.37950</td>\n",
       "      <td>-6.523000</td>\n",
       "      <td>0.051200</td>\n",
       "      <td>124.404500</td>\n",
       "      <td>0.583000</td>\n",
       "      <td>20.000000</td>\n",
       "      <td>243093.000000</td>\n",
       "    </tr>\n",
       "    <tr>\n",
       "      <th>75%</th>\n",
       "      <td>2017-12-01 00:00:00</td>\n",
       "      <td>11.000000</td>\n",
       "      <td>0.403750</td>\n",
       "      <td>0.578000</td>\n",
       "      <td>0.945000</td>\n",
       "      <td>0.179000</td>\n",
       "      <td>0.89375</td>\n",
       "      <td>-4.608750</td>\n",
       "      <td>0.086600</td>\n",
       "      <td>142.355750</td>\n",
       "      <td>0.778000</td>\n",
       "      <td>27.000000</td>\n",
       "      <td>295319.750000</td>\n",
       "    </tr>\n",
       "    <tr>\n",
       "      <th>max</th>\n",
       "      <td>2022-06-10 00:00:00</td>\n",
       "      <td>47.000000</td>\n",
       "      <td>0.994000</td>\n",
       "      <td>0.887000</td>\n",
       "      <td>0.999000</td>\n",
       "      <td>0.996000</td>\n",
       "      <td>0.99800</td>\n",
       "      <td>-1.014000</td>\n",
       "      <td>0.624000</td>\n",
       "      <td>216.304000</td>\n",
       "      <td>0.974000</td>\n",
       "      <td>80.000000</td>\n",
       "      <td>981866.000000</td>\n",
       "    </tr>\n",
       "    <tr>\n",
       "      <th>std</th>\n",
       "      <td>NaN</td>\n",
       "      <td>6.560220</td>\n",
       "      <td>0.227397</td>\n",
       "      <td>0.141775</td>\n",
       "      <td>0.179886</td>\n",
       "      <td>0.276249</td>\n",
       "      <td>0.34910</td>\n",
       "      <td>2.994003</td>\n",
       "      <td>0.051631</td>\n",
       "      <td>29.233483</td>\n",
       "      <td>0.231253</td>\n",
       "      <td>12.426859</td>\n",
       "      <td>108333.474920</td>\n",
       "    </tr>\n",
       "  </tbody>\n",
       "</table>\n",
       "</div>"
      ],
      "text/plain": [
       "                        release_date  track_number  acousticness  \\\n",
       "count                           1610   1610.000000   1610.000000   \n",
       "mean   1992-04-23 12:57:14.534161536      8.613665      0.250475   \n",
       "min              1964-04-16 00:00:00      1.000000      0.000009   \n",
       "25%              1970-09-04 00:00:00      4.000000      0.058350   \n",
       "50%              1986-03-24 00:00:00      7.000000      0.183000   \n",
       "75%              2017-12-01 00:00:00     11.000000      0.403750   \n",
       "max              2022-06-10 00:00:00     47.000000      0.994000   \n",
       "std                              NaN      6.560220      0.227397   \n",
       "\n",
       "       danceability       energy  instrumentalness    liveness     loudness  \\\n",
       "count   1610.000000  1610.000000       1610.000000  1610.00000  1610.000000   \n",
       "mean       0.468860     0.792352          0.164170     0.49173    -6.971615   \n",
       "min        0.104000     0.141000          0.000000     0.02190   -24.408000   \n",
       "25%        0.362250     0.674000          0.000219     0.15300    -8.982500   \n",
       "50%        0.458000     0.848500          0.013750     0.37950    -6.523000   \n",
       "75%        0.578000     0.945000          0.179000     0.89375    -4.608750   \n",
       "max        0.887000     0.999000          0.996000     0.99800    -1.014000   \n",
       "std        0.141775     0.179886          0.276249     0.34910     2.994003   \n",
       "\n",
       "       speechiness        tempo      valence   popularity    duration_ms  \n",
       "count  1610.000000  1610.000000  1610.000000  1610.000000    1610.000000  \n",
       "mean      0.069512   126.082033     0.582165    20.788199  257736.488199  \n",
       "min       0.023200    46.525000     0.000000     0.000000   21000.000000  \n",
       "25%       0.036500   107.390750     0.404250    13.000000  190613.000000  \n",
       "50%       0.051200   124.404500     0.583000    20.000000  243093.000000  \n",
       "75%       0.086600   142.355750     0.778000    27.000000  295319.750000  \n",
       "max       0.624000   216.304000     0.974000    80.000000  981866.000000  \n",
       "std       0.051631    29.233483     0.231253    12.426859  108333.474920  "
      ]
     },
     "execution_count": 17,
     "metadata": {},
     "output_type": "execute_result"
    }
   ],
   "source": [
    "df.describe()"
   ]
  },
  {
   "cell_type": "code",
   "execution_count": 18,
   "id": "b72c14da",
   "metadata": {},
   "outputs": [],
   "source": [
    "df[\"duracao_em_min\"] = df[\"duration_ms\"] / 60000"
   ]
  },
  {
   "cell_type": "code",
   "execution_count": 19,
   "id": "d3d0682c",
   "metadata": {},
   "outputs": [
    {
     "data": {
      "application/vnd.microsoft.datawrangler.viewer.v0+json": {
       "columns": [
        {
         "name": "index",
         "rawType": "int64",
         "type": "integer"
        },
        {
         "name": "name",
         "rawType": "object",
         "type": "string"
        },
        {
         "name": "album",
         "rawType": "object",
         "type": "string"
        },
        {
         "name": "release_date",
         "rawType": "datetime64[ns]",
         "type": "datetime"
        },
        {
         "name": "track_number",
         "rawType": "int64",
         "type": "integer"
        },
        {
         "name": "acousticness",
         "rawType": "float64",
         "type": "float"
        },
        {
         "name": "danceability",
         "rawType": "float64",
         "type": "float"
        },
        {
         "name": "energy",
         "rawType": "float64",
         "type": "float"
        },
        {
         "name": "instrumentalness",
         "rawType": "float64",
         "type": "float"
        },
        {
         "name": "liveness",
         "rawType": "float64",
         "type": "float"
        },
        {
         "name": "loudness",
         "rawType": "float64",
         "type": "float"
        },
        {
         "name": "speechiness",
         "rawType": "float64",
         "type": "float"
        },
        {
         "name": "tempo",
         "rawType": "float64",
         "type": "float"
        },
        {
         "name": "valence",
         "rawType": "float64",
         "type": "float"
        },
        {
         "name": "popularity",
         "rawType": "int64",
         "type": "integer"
        },
        {
         "name": "duration_ms",
         "rawType": "int64",
         "type": "integer"
        },
        {
         "name": "duracao_em_min",
         "rawType": "float64",
         "type": "float"
        }
       ],
       "ref": "eb501161-d17b-48d2-a311-002bfe0312c1",
       "rows": [
        [
         "0",
         "Concert Intro Music - Live",
         "Licked Live In NYC",
         "2022-06-10 00:00:00",
         "1",
         "0.0824",
         "0.463",
         "0.993",
         "0.996",
         "0.932",
         "-12.913",
         "0.11",
         "118.001",
         "0.0302",
         "33",
         "48640",
         "0.8106666666666666"
        ],
        [
         "1",
         "Street Fighting Man - Live",
         "Licked Live In NYC",
         "2022-06-10 00:00:00",
         "2",
         "0.437",
         "0.326",
         "0.965",
         "0.233",
         "0.961",
         "-4.803",
         "0.0759",
         "131.455",
         "0.318",
         "34",
         "253173",
         "4.21955"
        ],
        [
         "2",
         "Start Me Up - Live",
         "Licked Live In NYC",
         "2022-06-10 00:00:00",
         "3",
         "0.416",
         "0.386",
         "0.969",
         "0.4",
         "0.956",
         "-4.936",
         "0.115",
         "130.066",
         "0.313",
         "34",
         "263160",
         "4.386"
        ],
        [
         "3",
         "If You Can't Rock Me - Live",
         "Licked Live In NYC",
         "2022-06-10 00:00:00",
         "4",
         "0.567",
         "0.369",
         "0.985",
         "0.000107",
         "0.895",
         "-5.535",
         "0.193",
         "132.994",
         "0.147",
         "32",
         "305880",
         "5.098"
        ],
        [
         "4",
         "Don’t Stop - Live",
         "Licked Live In NYC",
         "2022-06-10 00:00:00",
         "5",
         "0.4",
         "0.303",
         "0.969",
         "0.0559",
         "0.966",
         "-5.098",
         "0.093",
         "130.533",
         "0.206",
         "32",
         "305106",
         "5.0851"
        ]
       ],
       "shape": {
        "columns": 16,
        "rows": 5
       }
      },
      "text/html": [
       "<div>\n",
       "<style scoped>\n",
       "    .dataframe tbody tr th:only-of-type {\n",
       "        vertical-align: middle;\n",
       "    }\n",
       "\n",
       "    .dataframe tbody tr th {\n",
       "        vertical-align: top;\n",
       "    }\n",
       "\n",
       "    .dataframe thead th {\n",
       "        text-align: right;\n",
       "    }\n",
       "</style>\n",
       "<table border=\"1\" class=\"dataframe\">\n",
       "  <thead>\n",
       "    <tr style=\"text-align: right;\">\n",
       "      <th></th>\n",
       "      <th>name</th>\n",
       "      <th>album</th>\n",
       "      <th>release_date</th>\n",
       "      <th>track_number</th>\n",
       "      <th>acousticness</th>\n",
       "      <th>danceability</th>\n",
       "      <th>energy</th>\n",
       "      <th>instrumentalness</th>\n",
       "      <th>liveness</th>\n",
       "      <th>loudness</th>\n",
       "      <th>speechiness</th>\n",
       "      <th>tempo</th>\n",
       "      <th>valence</th>\n",
       "      <th>popularity</th>\n",
       "      <th>duration_ms</th>\n",
       "      <th>duracao_em_min</th>\n",
       "    </tr>\n",
       "  </thead>\n",
       "  <tbody>\n",
       "    <tr>\n",
       "      <th>0</th>\n",
       "      <td>Concert Intro Music - Live</td>\n",
       "      <td>Licked Live In NYC</td>\n",
       "      <td>2022-06-10</td>\n",
       "      <td>1</td>\n",
       "      <td>0.0824</td>\n",
       "      <td>0.463</td>\n",
       "      <td>0.993</td>\n",
       "      <td>0.996000</td>\n",
       "      <td>0.932</td>\n",
       "      <td>-12.913</td>\n",
       "      <td>0.1100</td>\n",
       "      <td>118.001</td>\n",
       "      <td>0.0302</td>\n",
       "      <td>33</td>\n",
       "      <td>48640</td>\n",
       "      <td>0.810667</td>\n",
       "    </tr>\n",
       "    <tr>\n",
       "      <th>1</th>\n",
       "      <td>Street Fighting Man - Live</td>\n",
       "      <td>Licked Live In NYC</td>\n",
       "      <td>2022-06-10</td>\n",
       "      <td>2</td>\n",
       "      <td>0.4370</td>\n",
       "      <td>0.326</td>\n",
       "      <td>0.965</td>\n",
       "      <td>0.233000</td>\n",
       "      <td>0.961</td>\n",
       "      <td>-4.803</td>\n",
       "      <td>0.0759</td>\n",
       "      <td>131.455</td>\n",
       "      <td>0.3180</td>\n",
       "      <td>34</td>\n",
       "      <td>253173</td>\n",
       "      <td>4.219550</td>\n",
       "    </tr>\n",
       "    <tr>\n",
       "      <th>2</th>\n",
       "      <td>Start Me Up - Live</td>\n",
       "      <td>Licked Live In NYC</td>\n",
       "      <td>2022-06-10</td>\n",
       "      <td>3</td>\n",
       "      <td>0.4160</td>\n",
       "      <td>0.386</td>\n",
       "      <td>0.969</td>\n",
       "      <td>0.400000</td>\n",
       "      <td>0.956</td>\n",
       "      <td>-4.936</td>\n",
       "      <td>0.1150</td>\n",
       "      <td>130.066</td>\n",
       "      <td>0.3130</td>\n",
       "      <td>34</td>\n",
       "      <td>263160</td>\n",
       "      <td>4.386000</td>\n",
       "    </tr>\n",
       "    <tr>\n",
       "      <th>3</th>\n",
       "      <td>If You Can't Rock Me - Live</td>\n",
       "      <td>Licked Live In NYC</td>\n",
       "      <td>2022-06-10</td>\n",
       "      <td>4</td>\n",
       "      <td>0.5670</td>\n",
       "      <td>0.369</td>\n",
       "      <td>0.985</td>\n",
       "      <td>0.000107</td>\n",
       "      <td>0.895</td>\n",
       "      <td>-5.535</td>\n",
       "      <td>0.1930</td>\n",
       "      <td>132.994</td>\n",
       "      <td>0.1470</td>\n",
       "      <td>32</td>\n",
       "      <td>305880</td>\n",
       "      <td>5.098000</td>\n",
       "    </tr>\n",
       "    <tr>\n",
       "      <th>4</th>\n",
       "      <td>Don’t Stop - Live</td>\n",
       "      <td>Licked Live In NYC</td>\n",
       "      <td>2022-06-10</td>\n",
       "      <td>5</td>\n",
       "      <td>0.4000</td>\n",
       "      <td>0.303</td>\n",
       "      <td>0.969</td>\n",
       "      <td>0.055900</td>\n",
       "      <td>0.966</td>\n",
       "      <td>-5.098</td>\n",
       "      <td>0.0930</td>\n",
       "      <td>130.533</td>\n",
       "      <td>0.2060</td>\n",
       "      <td>32</td>\n",
       "      <td>305106</td>\n",
       "      <td>5.085100</td>\n",
       "    </tr>\n",
       "  </tbody>\n",
       "</table>\n",
       "</div>"
      ],
      "text/plain": [
       "                          name               album release_date  track_number  \\\n",
       "0   Concert Intro Music - Live  Licked Live In NYC   2022-06-10             1   \n",
       "1   Street Fighting Man - Live  Licked Live In NYC   2022-06-10             2   \n",
       "2           Start Me Up - Live  Licked Live In NYC   2022-06-10             3   \n",
       "3  If You Can't Rock Me - Live  Licked Live In NYC   2022-06-10             4   \n",
       "4            Don’t Stop - Live  Licked Live In NYC   2022-06-10             5   \n",
       "\n",
       "   acousticness  danceability  energy  instrumentalness  liveness  loudness  \\\n",
       "0        0.0824         0.463   0.993          0.996000     0.932   -12.913   \n",
       "1        0.4370         0.326   0.965          0.233000     0.961    -4.803   \n",
       "2        0.4160         0.386   0.969          0.400000     0.956    -4.936   \n",
       "3        0.5670         0.369   0.985          0.000107     0.895    -5.535   \n",
       "4        0.4000         0.303   0.969          0.055900     0.966    -5.098   \n",
       "\n",
       "   speechiness    tempo  valence  popularity  duration_ms  duracao_em_min  \n",
       "0       0.1100  118.001   0.0302          33        48640        0.810667  \n",
       "1       0.0759  131.455   0.3180          34       253173        4.219550  \n",
       "2       0.1150  130.066   0.3130          34       263160        4.386000  \n",
       "3       0.1930  132.994   0.1470          32       305880        5.098000  \n",
       "4       0.0930  130.533   0.2060          32       305106        5.085100  "
      ]
     },
     "execution_count": 19,
     "metadata": {},
     "output_type": "execute_result"
    }
   ],
   "source": [
    "df.head()"
   ]
  },
  {
   "cell_type": "code",
   "execution_count": 20,
   "id": "f6415964",
   "metadata": {},
   "outputs": [
    {
     "data": {
      "application/vnd.microsoft.datawrangler.viewer.v0+json": {
       "columns": [
        {
         "name": "index",
         "rawType": "object",
         "type": "string"
        },
        {
         "name": "release_date",
         "rawType": "object",
         "type": "unknown"
        },
        {
         "name": "track_number",
         "rawType": "float64",
         "type": "float"
        },
        {
         "name": "acousticness",
         "rawType": "float64",
         "type": "float"
        },
        {
         "name": "danceability",
         "rawType": "float64",
         "type": "float"
        },
        {
         "name": "energy",
         "rawType": "float64",
         "type": "float"
        },
        {
         "name": "instrumentalness",
         "rawType": "float64",
         "type": "float"
        },
        {
         "name": "liveness",
         "rawType": "float64",
         "type": "float"
        },
        {
         "name": "loudness",
         "rawType": "float64",
         "type": "float"
        },
        {
         "name": "speechiness",
         "rawType": "float64",
         "type": "float"
        },
        {
         "name": "tempo",
         "rawType": "float64",
         "type": "float"
        },
        {
         "name": "valence",
         "rawType": "float64",
         "type": "float"
        },
        {
         "name": "popularity",
         "rawType": "float64",
         "type": "float"
        },
        {
         "name": "duration_ms",
         "rawType": "float64",
         "type": "float"
        },
        {
         "name": "duracao_em_min",
         "rawType": "float64",
         "type": "float"
        }
       ],
       "ref": "1bb62426-ef46-4d4b-ac15-ba3f0b2579f7",
       "rows": [
        [
         "count",
         "1610",
         "1610.0",
         "1610.0",
         "1610.0",
         "1610.0",
         "1610.0",
         "1610.0",
         "1610.0",
         "1610.0",
         "1610.0",
         "1610.0",
         "1610.0",
         "1610.0",
         "1610.0"
        ],
        [
         "mean",
         "1992-04-23 12:57:14.534161536",
         "8.613664596273292",
         "0.2504747648757764",
         "0.46885962732919256",
         "0.7923521739130435",
         "0.1641697790869565",
         "0.4917296273291924",
         "-6.971614906832298",
         "0.06951242236024846",
         "126.08203291925464",
         "0.5821654658385093",
         "20.788198757763976",
         "257736.48819875775",
         "4.295608136645963"
        ],
        [
         "min",
         "1964-04-16 00:00:00",
         "1.0",
         "8.94e-06",
         "0.104",
         "0.141",
         "0.0",
         "0.0219",
         "-24.408",
         "0.0232",
         "46.525",
         "0.0",
         "0.0",
         "21000.0",
         "0.35"
        ],
        [
         "25%",
         "1970-09-04 00:00:00",
         "4.0",
         "0.05835",
         "0.36224999999999996",
         "0.674",
         "0.00021925000000000002",
         "0.153",
         "-8.9825",
         "0.0365",
         "107.39075",
         "0.40425",
         "13.0",
         "190613.0",
         "3.1768833333333335"
        ],
        [
         "50%",
         "1986-03-24 00:00:00",
         "7.0",
         "0.183",
         "0.458",
         "0.8485",
         "0.01375",
         "0.3795",
         "-6.523",
         "0.0512",
         "124.4045",
         "0.583",
         "20.0",
         "243093.0",
         "4.05155"
        ],
        [
         "75%",
         "2017-12-01 00:00:00",
         "11.0",
         "0.40375000000000005",
         "0.578",
         "0.945",
         "0.179",
         "0.89375",
         "-4.60875",
         "0.0866",
         "142.35575",
         "0.778",
         "27.0",
         "295319.75",
         "4.921995833333333"
        ],
        [
         "max",
         "2022-06-10 00:00:00",
         "47.0",
         "0.994",
         "0.887",
         "0.999",
         "0.996",
         "0.998",
         "-1.014",
         "0.624",
         "216.304",
         "0.974",
         "80.0",
         "981866.0",
         "16.364433333333334"
        ],
        [
         "std",
         null,
         "6.560219653419199",
         "0.2273968923468458",
         "0.1417750524297936",
         "0.17988583030268485",
         "0.2762487405581575",
         "0.3490996115969464",
         "2.994002677328004",
         "0.05163137058571898",
         "29.233482856201476",
         "0.2312527978899838",
         "12.426859374735498",
         "108333.47492032833",
         "1.8055579153388057"
        ]
       ],
       "shape": {
        "columns": 14,
        "rows": 8
       }
      },
      "text/html": [
       "<div>\n",
       "<style scoped>\n",
       "    .dataframe tbody tr th:only-of-type {\n",
       "        vertical-align: middle;\n",
       "    }\n",
       "\n",
       "    .dataframe tbody tr th {\n",
       "        vertical-align: top;\n",
       "    }\n",
       "\n",
       "    .dataframe thead th {\n",
       "        text-align: right;\n",
       "    }\n",
       "</style>\n",
       "<table border=\"1\" class=\"dataframe\">\n",
       "  <thead>\n",
       "    <tr style=\"text-align: right;\">\n",
       "      <th></th>\n",
       "      <th>release_date</th>\n",
       "      <th>track_number</th>\n",
       "      <th>acousticness</th>\n",
       "      <th>danceability</th>\n",
       "      <th>energy</th>\n",
       "      <th>instrumentalness</th>\n",
       "      <th>liveness</th>\n",
       "      <th>loudness</th>\n",
       "      <th>speechiness</th>\n",
       "      <th>tempo</th>\n",
       "      <th>valence</th>\n",
       "      <th>popularity</th>\n",
       "      <th>duration_ms</th>\n",
       "      <th>duracao_em_min</th>\n",
       "    </tr>\n",
       "  </thead>\n",
       "  <tbody>\n",
       "    <tr>\n",
       "      <th>count</th>\n",
       "      <td>1610</td>\n",
       "      <td>1610.000000</td>\n",
       "      <td>1610.000000</td>\n",
       "      <td>1610.000000</td>\n",
       "      <td>1610.000000</td>\n",
       "      <td>1610.000000</td>\n",
       "      <td>1610.00000</td>\n",
       "      <td>1610.000000</td>\n",
       "      <td>1610.000000</td>\n",
       "      <td>1610.000000</td>\n",
       "      <td>1610.000000</td>\n",
       "      <td>1610.000000</td>\n",
       "      <td>1610.000000</td>\n",
       "      <td>1610.000000</td>\n",
       "    </tr>\n",
       "    <tr>\n",
       "      <th>mean</th>\n",
       "      <td>1992-04-23 12:57:14.534161536</td>\n",
       "      <td>8.613665</td>\n",
       "      <td>0.250475</td>\n",
       "      <td>0.468860</td>\n",
       "      <td>0.792352</td>\n",
       "      <td>0.164170</td>\n",
       "      <td>0.49173</td>\n",
       "      <td>-6.971615</td>\n",
       "      <td>0.069512</td>\n",
       "      <td>126.082033</td>\n",
       "      <td>0.582165</td>\n",
       "      <td>20.788199</td>\n",
       "      <td>257736.488199</td>\n",
       "      <td>4.295608</td>\n",
       "    </tr>\n",
       "    <tr>\n",
       "      <th>min</th>\n",
       "      <td>1964-04-16 00:00:00</td>\n",
       "      <td>1.000000</td>\n",
       "      <td>0.000009</td>\n",
       "      <td>0.104000</td>\n",
       "      <td>0.141000</td>\n",
       "      <td>0.000000</td>\n",
       "      <td>0.02190</td>\n",
       "      <td>-24.408000</td>\n",
       "      <td>0.023200</td>\n",
       "      <td>46.525000</td>\n",
       "      <td>0.000000</td>\n",
       "      <td>0.000000</td>\n",
       "      <td>21000.000000</td>\n",
       "      <td>0.350000</td>\n",
       "    </tr>\n",
       "    <tr>\n",
       "      <th>25%</th>\n",
       "      <td>1970-09-04 00:00:00</td>\n",
       "      <td>4.000000</td>\n",
       "      <td>0.058350</td>\n",
       "      <td>0.362250</td>\n",
       "      <td>0.674000</td>\n",
       "      <td>0.000219</td>\n",
       "      <td>0.15300</td>\n",
       "      <td>-8.982500</td>\n",
       "      <td>0.036500</td>\n",
       "      <td>107.390750</td>\n",
       "      <td>0.404250</td>\n",
       "      <td>13.000000</td>\n",
       "      <td>190613.000000</td>\n",
       "      <td>3.176883</td>\n",
       "    </tr>\n",
       "    <tr>\n",
       "      <th>50%</th>\n",
       "      <td>1986-03-24 00:00:00</td>\n",
       "      <td>7.000000</td>\n",
       "      <td>0.183000</td>\n",
       "      <td>0.458000</td>\n",
       "      <td>0.848500</td>\n",
       "      <td>0.013750</td>\n",
       "      <td>0.37950</td>\n",
       "      <td>-6.523000</td>\n",
       "      <td>0.051200</td>\n",
       "      <td>124.404500</td>\n",
       "      <td>0.583000</td>\n",
       "      <td>20.000000</td>\n",
       "      <td>243093.000000</td>\n",
       "      <td>4.051550</td>\n",
       "    </tr>\n",
       "    <tr>\n",
       "      <th>75%</th>\n",
       "      <td>2017-12-01 00:00:00</td>\n",
       "      <td>11.000000</td>\n",
       "      <td>0.403750</td>\n",
       "      <td>0.578000</td>\n",
       "      <td>0.945000</td>\n",
       "      <td>0.179000</td>\n",
       "      <td>0.89375</td>\n",
       "      <td>-4.608750</td>\n",
       "      <td>0.086600</td>\n",
       "      <td>142.355750</td>\n",
       "      <td>0.778000</td>\n",
       "      <td>27.000000</td>\n",
       "      <td>295319.750000</td>\n",
       "      <td>4.921996</td>\n",
       "    </tr>\n",
       "    <tr>\n",
       "      <th>max</th>\n",
       "      <td>2022-06-10 00:00:00</td>\n",
       "      <td>47.000000</td>\n",
       "      <td>0.994000</td>\n",
       "      <td>0.887000</td>\n",
       "      <td>0.999000</td>\n",
       "      <td>0.996000</td>\n",
       "      <td>0.99800</td>\n",
       "      <td>-1.014000</td>\n",
       "      <td>0.624000</td>\n",
       "      <td>216.304000</td>\n",
       "      <td>0.974000</td>\n",
       "      <td>80.000000</td>\n",
       "      <td>981866.000000</td>\n",
       "      <td>16.364433</td>\n",
       "    </tr>\n",
       "    <tr>\n",
       "      <th>std</th>\n",
       "      <td>NaN</td>\n",
       "      <td>6.560220</td>\n",
       "      <td>0.227397</td>\n",
       "      <td>0.141775</td>\n",
       "      <td>0.179886</td>\n",
       "      <td>0.276249</td>\n",
       "      <td>0.34910</td>\n",
       "      <td>2.994003</td>\n",
       "      <td>0.051631</td>\n",
       "      <td>29.233483</td>\n",
       "      <td>0.231253</td>\n",
       "      <td>12.426859</td>\n",
       "      <td>108333.474920</td>\n",
       "      <td>1.805558</td>\n",
       "    </tr>\n",
       "  </tbody>\n",
       "</table>\n",
       "</div>"
      ],
      "text/plain": [
       "                        release_date  track_number  acousticness  \\\n",
       "count                           1610   1610.000000   1610.000000   \n",
       "mean   1992-04-23 12:57:14.534161536      8.613665      0.250475   \n",
       "min              1964-04-16 00:00:00      1.000000      0.000009   \n",
       "25%              1970-09-04 00:00:00      4.000000      0.058350   \n",
       "50%              1986-03-24 00:00:00      7.000000      0.183000   \n",
       "75%              2017-12-01 00:00:00     11.000000      0.403750   \n",
       "max              2022-06-10 00:00:00     47.000000      0.994000   \n",
       "std                              NaN      6.560220      0.227397   \n",
       "\n",
       "       danceability       energy  instrumentalness    liveness     loudness  \\\n",
       "count   1610.000000  1610.000000       1610.000000  1610.00000  1610.000000   \n",
       "mean       0.468860     0.792352          0.164170     0.49173    -6.971615   \n",
       "min        0.104000     0.141000          0.000000     0.02190   -24.408000   \n",
       "25%        0.362250     0.674000          0.000219     0.15300    -8.982500   \n",
       "50%        0.458000     0.848500          0.013750     0.37950    -6.523000   \n",
       "75%        0.578000     0.945000          0.179000     0.89375    -4.608750   \n",
       "max        0.887000     0.999000          0.996000     0.99800    -1.014000   \n",
       "std        0.141775     0.179886          0.276249     0.34910     2.994003   \n",
       "\n",
       "       speechiness        tempo      valence   popularity    duration_ms  \\\n",
       "count  1610.000000  1610.000000  1610.000000  1610.000000    1610.000000   \n",
       "mean      0.069512   126.082033     0.582165    20.788199  257736.488199   \n",
       "min       0.023200    46.525000     0.000000     0.000000   21000.000000   \n",
       "25%       0.036500   107.390750     0.404250    13.000000  190613.000000   \n",
       "50%       0.051200   124.404500     0.583000    20.000000  243093.000000   \n",
       "75%       0.086600   142.355750     0.778000    27.000000  295319.750000   \n",
       "max       0.624000   216.304000     0.974000    80.000000  981866.000000   \n",
       "std       0.051631    29.233483     0.231253    12.426859  108333.474920   \n",
       "\n",
       "       duracao_em_min  \n",
       "count     1610.000000  \n",
       "mean         4.295608  \n",
       "min          0.350000  \n",
       "25%          3.176883  \n",
       "50%          4.051550  \n",
       "75%          4.921996  \n",
       "max         16.364433  \n",
       "std          1.805558  "
      ]
     },
     "execution_count": 20,
     "metadata": {},
     "output_type": "execute_result"
    }
   ],
   "source": [
    "df.describe()"
   ]
  },
  {
   "cell_type": "code",
   "execution_count": 21,
   "id": "5b95fa37",
   "metadata": {},
   "outputs": [
    {
     "data": {
      "application/vnd.microsoft.datawrangler.viewer.v0+json": {
       "columns": [
        {
         "name": "album",
         "rawType": "object",
         "type": "string"
        },
        {
         "name": "duracao_em_min",
         "rawType": "float64",
         "type": "float"
        }
       ],
       "ref": "2e266c06-ccb7-4ed9-849a-0f59a6d0efc5",
       "rows": [
        [
         "12 X 5",
         "2.682068055555556"
        ],
        [
         "12 x 5",
         "2.6827722222222223"
        ],
        [
         "A Bigger Bang (2009 Re-Mastered)",
         "4.01635625"
        ],
        [
         "A Bigger Bang (Live)",
         "5.176630303030303"
        ],
        [
         "Aftermath",
         "3.8991848484848486"
        ],
        [
         "Aftermath (UK Version)",
         "3.8005196428571426"
        ],
        [
         "Beggars Banquet",
         "3.964705"
        ],
        [
         "Beggars Banquet (50th Anniversary Edition)",
         "3.9811483333333326"
        ],
        [
         "Between The Buttons",
         "3.2048555555555556"
        ],
        [
         "Between The Buttons (UK Version)",
         "3.203123611111111"
        ],
        [
         "Between The Buttons (US track listing)",
         "3.2077708333333335"
        ],
        [
         "Black And Blue",
         "5.147579166666667"
        ],
        [
         "Black And Blue (Remastered 2009)",
         "5.16996875"
        ],
        [
         "Blue & Lonesome",
         "3.558659722222222"
        ],
        [
         "Bridges To Babylon",
         "4.795447435897436"
        ],
        [
         "Bridges To Babylon (Remastered)",
         "4.79908717948718"
        ],
        [
         "Bridges To Bremen (Live)",
         "6.332265151515151"
        ],
        [
         "Bridges To Buenos Aires (Live)",
         "5.722842424242424"
        ],
        [
         "December's Children (and everybody's)",
         "2.4089763888888887"
        ],
        [
         "December’s Children (And Everybody’s)",
         "2.4085319444444444"
        ],
        [
         "Dirty Work",
         "3.617142424242424"
        ],
        [
         "Dirty Work (Remastered 2009)",
         "3.617142424242424"
        ],
        [
         "Emotional Rescue",
         "4.119438333333333"
        ],
        [
         "Emotional Rescue (2009 Re-Mastered)",
         "4.126171666666666"
        ],
        [
         "England's Newest Hit Makers",
         "2.5967152777777778"
        ],
        [
         "England’s Newest Hitmakers",
         "2.5963249999999998"
        ],
        [
         "Exile On Main Street (2010 Re-Mastered)",
         "3.728574074074074"
        ],
        [
         "Exile On Main Street (Bonus Track Version)",
         "3.8755942528735634"
        ],
        [
         "Exile On Main Street (Deluxe Version)",
         "3.8652625"
        ],
        [
         "Flashpoint",
         "4.497725980392157"
        ],
        [
         "Flowers",
         "3.0905125000000004"
        ],
        [
         "From The Vault: No Security - San Jose 1999 (Live)",
         "5.525861666666667"
        ],
        [
         "Get Yer Ya Yas Out",
         "4.770770000000001"
        ],
        [
         "Get Yer Ya-Ya's Out! (Remastered)",
         "4.773193333333333"
        ],
        [
         "Get Yer Ya-Ya's Out! The Rolling Stones In Concert (40th Anniversary Edition)",
         "4.019196296296296"
        ],
        [
         "Goats Head Soup",
         "4.687061666666667"
        ],
        [
         "Goats Head Soup (Deluxe)",
         "4.680636936936938"
        ],
        [
         "Goats Head Soup (Remastered 2009)",
         "4.67666"
        ],
        [
         "Got Live if you want it!",
         "2.7625333333333333"
        ],
        [
         "Havana Moon (Live)",
         "6.632818518518518"
        ],
        [
         "Honk (Deluxe)",
         "4.276327304964539"
        ],
        [
         "It's Only Rock 'N' Roll",
         "4.843993333333334"
        ],
        [
         "It's Only Rock 'N' Roll (2009 Re-Mastered)",
         "4.843838333333333"
        ],
        [
         "Jamming With Edward",
         "6.042794444444444"
        ],
        [
         "Ladies & Gentlemen (Live)",
         "4.784801041666666"
        ],
        [
         "Let It Bleed",
         "4.706834259259259"
        ],
        [
         "Let It Bleed (50th Anniversary Edition / Remastered 2019)",
         "4.7094"
        ],
        [
         "Licked Live In NYC",
         "5.611829710144927"
        ],
        [
         "Live 1965: Music From Charlie Is My Darling (Live From England/1965)",
         "2.1460820512820513"
        ],
        [
         "Live At The Checkerboard Lounge",
         "6.009647395833333"
        ]
       ],
       "shape": {
        "columns": 1,
        "rows": 90
       }
      },
      "text/plain": [
       "album\n",
       "12 X 5                              2.682068\n",
       "12 x 5                              2.682772\n",
       "A Bigger Bang (2009 Re-Mastered)    4.016356\n",
       "A Bigger Bang (Live)                5.176630\n",
       "Aftermath                           3.899185\n",
       "                                      ...   \n",
       "Undercover                          4.492750\n",
       "Undercover (2009 Re-Mastered)       4.497595\n",
       "Voodoo Lounge (Remastered 2009)     4.118779\n",
       "Voodoo Lounge Uncut (Live)          5.248507\n",
       "got LIVE if you want it!            2.762532\n",
       "Name: duracao_em_min, Length: 90, dtype: float64"
      ]
     },
     "execution_count": 21,
     "metadata": {},
     "output_type": "execute_result"
    }
   ],
   "source": [
    "df.groupby('album')[\"duracao_em_min\"].mean()"
   ]
  },
  {
   "cell_type": "code",
   "execution_count": 22,
   "id": "191f6a2a",
   "metadata": {},
   "outputs": [],
   "source": [
    "import matplotlib.pyplot as plt"
   ]
  },
  {
   "cell_type": "code",
   "execution_count": 23,
   "id": "17ae157a",
   "metadata": {},
   "outputs": [],
   "source": [
    "df_maior_duracao_musica = df.groupby('album')['duracao_em_min'].mean().sort_values(ascending=False)"
   ]
  },
  {
   "cell_type": "code",
   "execution_count": 24,
   "id": "b5f649c7",
   "metadata": {},
   "outputs": [
    {
     "data": {
      "application/vnd.microsoft.datawrangler.viewer.v0+json": {
       "columns": [
        {
         "name": "album",
         "rawType": "object",
         "type": "string"
        },
        {
         "name": "duracao_em_min",
         "rawType": "float64",
         "type": "float"
        }
       ],
       "ref": "a1798e46-0e55-495e-a01d-bab95320de91",
       "rows": [
        [
         "Havana Moon (Live)",
         "6.632818518518518"
        ],
        [
         "Bridges To Bremen (Live)",
         "6.332265151515151"
        ],
        [
         "Jamming With Edward",
         "6.042794444444444"
        ],
        [
         "Live At The Checkerboard Lounge",
         "6.009647395833333"
        ],
        [
         "Totally Stripped - Paris (Live)",
         "5.947429545454545"
        ],
        [
         "Bridges To Buenos Aires (Live)",
         "5.722842424242424"
        ],
        [
         "Totally Stripped (Live)",
         "5.635596428571428"
        ],
        [
         "Licked Live In NYC",
         "5.611829710144927"
        ],
        [
         "Steel Wheels Live",
         "5.598141975308642"
        ],
        [
         "From The Vault: No Security - San Jose 1999 (Live)",
         "5.525861666666667"
        ],
        [
         "Voodoo Lounge Uncut (Live)",
         "5.248506547619047"
        ],
        [
         "Totally Stripped - Brixton (Live)",
         "5.237258333333333"
        ],
        [
         "A Bigger Bang (Live)",
         "5.176630303030303"
        ],
        [
         "Black And Blue (Remastered 2009)",
         "5.16996875"
        ],
        [
         "Black And Blue",
         "5.147579166666667"
        ],
        [
         "Sticky Fingers (Super Deluxe)",
         "5.09359797979798"
        ],
        [
         "Sticky Fingers (Deluxe)",
         "5.014995833333333"
        ],
        [
         "Sticky Fingers Live At The Fonda Theatre",
         "4.974757291666666"
        ],
        [
         "It's Only Rock 'N' Roll",
         "4.843993333333334"
        ],
        [
         "It's Only Rock 'N' Roll (2009 Re-Mastered)",
         "4.843838333333333"
        ],
        [
         "Bridges To Babylon (Remastered)",
         "4.79908717948718"
        ],
        [
         "Bridges To Babylon",
         "4.795447435897436"
        ],
        [
         "Ladies & Gentlemen (Live)",
         "4.784801041666666"
        ],
        [
         "Get Yer Ya-Ya's Out! (Remastered)",
         "4.773193333333333"
        ],
        [
         "Get Yer Ya Yas Out",
         "4.770770000000001"
        ],
        [
         "Live Licks",
         "4.753408333333333"
        ],
        [
         "Let It Bleed (50th Anniversary Edition / Remastered 2019)",
         "4.7094"
        ],
        [
         "Let It Bleed",
         "4.706834259259259"
        ],
        [
         "Some Girls: Live In Texas '78",
         "4.704619607843137"
        ],
        [
         "Goats Head Soup",
         "4.687061666666667"
        ],
        [
         "Goats Head Soup (Deluxe)",
         "4.680636936936938"
        ],
        [
         "Goats Head Soup (Remastered 2009)",
         "4.67666"
        ],
        [
         "Live At The El Mocambo",
         "4.6728144927536235"
        ],
        [
         "Sticky Fingers (Remastered)",
         "4.625371666666666"
        ],
        [
         "Love You Live (Remastered)",
         "4.622944444444444"
        ],
        [
         "Love You Live (Remastered 2009)",
         "4.620487962962963"
        ],
        [
         "Totally Stripped - Amsterdam (Live)",
         "4.5963625"
        ],
        [
         "Tattoo You (Super Deluxe)",
         "4.517239492753623"
        ],
        [
         "Flashpoint",
         "4.497725980392157"
        ],
        [
         "Undercover (2009 Re-Mastered)",
         "4.497595"
        ],
        [
         "Undercover",
         "4.49275"
        ],
        [
         "Their Satanic Majesties Request (50th Anniversary Special Edition / Remastered)",
         "4.4205733333333335"
        ],
        [
         "Steel Wheels (Remastered 2009)",
         "4.417345833333333"
        ],
        [
         "Steel Wheels",
         "4.415070833333334"
        ],
        [
         "Their Satanic Majesties Request",
         "4.41055"
        ],
        [
         "Honk (Deluxe)",
         "4.276327304964539"
        ],
        [
         "Stripped",
         "4.2548125"
        ],
        [
         "Emotional Rescue (2009 Re-Mastered)",
         "4.126171666666666"
        ],
        [
         "Emotional Rescue",
         "4.119438333333333"
        ],
        [
         "Voodoo Lounge (Remastered 2009)",
         "4.1187788888888885"
        ]
       ],
       "shape": {
        "columns": 1,
        "rows": 90
       }
      },
      "text/plain": [
       "album\n",
       "Havana Moon (Live)                                                      6.632819\n",
       "Bridges To Bremen (Live)                                                6.332265\n",
       "Jamming With Edward                                                     6.042794\n",
       "Live At The Checkerboard Lounge                                         6.009647\n",
       "Totally Stripped - Paris (Live)                                         5.947430\n",
       "                                                                          ...   \n",
       "Out Of Our Heads (UK)                                                   2.464643\n",
       "Out Of Our Heads (UK Sequence)                                          2.449274\n",
       "December's Children (and everybody's)                                   2.408976\n",
       "December’s Children (And Everybody’s)                                   2.408532\n",
       "Live 1965: Music From Charlie Is My Darling (Live From England/1965)    2.146082\n",
       "Name: duracao_em_min, Length: 90, dtype: float64"
      ]
     },
     "execution_count": 24,
     "metadata": {},
     "output_type": "execute_result"
    }
   ],
   "source": [
    "df_maior_duracao_musica"
   ]
  },
  {
   "cell_type": "code",
   "execution_count": 25,
   "id": "833dce5b",
   "metadata": {},
   "outputs": [
    {
     "data": {
      "image/png": "[encoded data removed]",
      "text/plain": [
       "<Figure size 640x480 with 1 Axes>"
      ]
     },
     "metadata": {},
     "output_type": "display_data"
    }
   ],
   "source": [
    "df_maior_duracao_musica.head(5).plot(kind='bar')\n",
    "plt.xlabel(\"albuns\")\n",
    "plt.ylabel(\"Média de duração das músicas\")\n",
    "plt.title(\"TOP 5 albuns com maior duração média de música\")\n",
    "plt.show()"
   ]
  },
  {
   "cell_type": "code",
   "execution_count": 26,
   "id": "d1abfdff",
   "metadata": {},
   "outputs": [
    {
     "data": {
      "image/png": "[encoded data removed]",
      "text/plain": [
       "<Figure size 640x480 with 1 Axes>"
      ]
     },
     "metadata": {},
     "output_type": "display_data"
    }
   ],
   "source": [
    "top_albums = df[\"album\"].value_counts().head(10)\n",
    "plt.barh(top_albums.index, top_albums.values)\n",
    "plt.title(\"TOP 10 Albúns com mais músicas\")\n",
    "plt.show()"
   ]
  },
  {
   "cell_type": "code",
   "execution_count": 27,
   "id": "b97262d6",
   "metadata": {},
   "outputs": [
    {
     "data": {
      "application/vnd.microsoft.datawrangler.viewer.v0+json": {
       "columns": [
        {
         "name": "album",
         "rawType": "object",
         "type": "string"
        },
        {
         "name": "count",
         "rawType": "int64",
         "type": "integer"
        }
       ],
       "ref": "f93a3c51-a42f-40c8-9b9c-e681b7d3b4db",
       "rows": [
        [
         "Voodoo Lounge Uncut (Live)",
         "56"
        ],
        [
         "Honk (Deluxe)",
         "47"
        ],
        [
         "Tattoo You (Super Deluxe)",
         "46"
        ],
        [
         "Live Licks",
         "46"
        ],
        [
         "Some Girls (Deluxe Version)",
         "44"
        ],
        [
         "Goats Head Soup (Deluxe)",
         "37"
        ],
        [
         "Flashpoint",
         "34"
        ],
        [
         "Sticky Fingers (Super Deluxe)",
         "33"
        ],
        [
         "On Air (Deluxe)",
         "32"
        ],
        [
         "Live At The Checkerboard Lounge",
         "32"
        ]
       ],
       "shape": {
        "columns": 1,
        "rows": 10
       }
      },
      "text/plain": [
       "album\n",
       "Voodoo Lounge Uncut (Live)         56\n",
       "Honk (Deluxe)                      47\n",
       "Tattoo You (Super Deluxe)          46\n",
       "Live Licks                         46\n",
       "Some Girls (Deluxe Version)        44\n",
       "Goats Head Soup (Deluxe)           37\n",
       "Flashpoint                         34\n",
       "Sticky Fingers (Super Deluxe)      33\n",
       "On Air (Deluxe)                    32\n",
       "Live At The Checkerboard Lounge    32\n",
       "Name: count, dtype: int64"
      ]
     },
     "execution_count": 27,
     "metadata": {},
     "output_type": "execute_result"
    }
   ],
   "source": [
    "top_albums"
   ]
  },
  {
   "cell_type": "code",
   "execution_count": 28,
   "id": "423c5560",
   "metadata": {},
   "outputs": [],
   "source": [
    "df_ultima_decada = df[df[\"release_date\"].between(pd.to_datetime(\"2011\"),pd.to_datetime(\"2020\"))]"
   ]
  },
  {
   "cell_type": "code",
   "execution_count": 29,
   "id": "a8ee4502",
   "metadata": {},
   "outputs": [
    {
     "data": {
      "image/png": "[encoded data removed]",
      "text/plain": [
       "<Figure size 1800x600 with 1 Axes>"
      ]
     },
     "metadata": {},
     "output_type": "display_data"
    }
   ],
   "source": [
    "df_por_album = df_ultima_decada.groupby(\"album\")[\"popularity\"].sum().sort_values(ascending=False).head(10)\n",
    "total_popularidade = df_por_album.sum()\n",
    "\n",
    "df_porcentagem = df_por_album / total_popularidade * 100\n",
    "\n",
    "labels = df_porcentagem.index.tolist()\n",
    "sizes = df_porcentagem.values.tolist()\n",
    "\n",
    "figura, grafico = plt.subplots(figsize=(18,6))\n",
    "grafico.pie(sizes, autopct=\"%1.1f%%\")\n",
    "grafico.axis(\"equal\")\n",
    "plt.title(\"Porcentagem de popularidade de álbuns na última década (Top 10 álbuns)\")\n",
    "plt.legend(labels, loc=\"best\")\n",
    "plt.show()"
   ]
  },
  {
   "cell_type": "code",
   "execution_count": 30,
   "id": "8df113b7",
   "metadata": {},
   "outputs": [
    {
     "data": {
      "application/vnd.microsoft.datawrangler.viewer.v0+json": {
       "columns": [
        {
         "name": "album",
         "rawType": "object",
         "type": "string"
        },
        {
         "name": "popularity",
         "rawType": "int64",
         "type": "integer"
        }
       ],
       "ref": "b4a46811-99d6-4af2-89ca-6f1e3d4da61c",
       "rows": [
        [
         "Honk (Deluxe)",
         "1232"
        ],
        [
         "Voodoo Lounge Uncut (Live)",
         "654"
        ],
        [
         "On Air (Deluxe)",
         "573"
        ],
        [
         "Live At The Checkerboard Lounge",
         "482"
        ],
        [
         "Havana Moon (Live)",
         "445"
        ],
        [
         "Bridges To Buenos Aires (Live)",
         "433"
        ],
        [
         "Blue & Lonesome",
         "419"
        ],
        [
         "Bridges To Bremen (Live)",
         "396"
        ],
        [
         "Some Girls: Live In Texas '78",
         "344"
        ],
        [
         "Ladies & Gentlemen (Live)",
         "343"
        ]
       ],
       "shape": {
        "columns": 1,
        "rows": 10
       }
      },
      "text/plain": [
       "album\n",
       "Honk (Deluxe)                      1232\n",
       "Voodoo Lounge Uncut (Live)          654\n",
       "On Air (Deluxe)                     573\n",
       "Live At The Checkerboard Lounge     482\n",
       "Havana Moon (Live)                  445\n",
       "Bridges To Buenos Aires (Live)      433\n",
       "Blue & Lonesome                     419\n",
       "Bridges To Bremen (Live)            396\n",
       "Some Girls: Live In Texas '78       344\n",
       "Ladies & Gentlemen (Live)           343\n",
       "Name: popularity, dtype: int64"
      ]
     },
     "execution_count": 30,
     "metadata": {},
     "output_type": "execute_result"
    }
   ],
   "source": [
    "df_por_album"
   ]
  },
  {
   "cell_type": "code",
   "execution_count": 31,
   "id": "ff2c5fc9",
   "metadata": {},
   "outputs": [],
   "source": [
    "import seaborn as sns"
   ]
  },
  {
   "cell_type": "code",
   "execution_count": 32,
   "id": "5b0cbc42",
   "metadata": {},
   "outputs": [
    {
     "data": {
      "image/png": "[encoded data removed]",
      "text/plain": [
       "<Figure size 1200x600 with 1 Axes>"
      ]
     },
     "metadata": {},
     "output_type": "display_data"
    }
   ],
   "source": [
    "sns.set(style='whitegrid')\n",
    "fig, axes = plt.subplots(figsize=(12,6))\n",
    "sns.boxplot(x=\"duracao_em_min\", data=df)\n",
    "axes.set_title(\"Boxplot\")\n",
    "plt.show()"
   ]
  },
  {
   "cell_type": "code",
   "execution_count": 33,
   "id": "ec1a3336",
   "metadata": {},
   "outputs": [
    {
     "data": {
      "image/png": "[encoded data removed]",
      "text/plain": [
       "<Figure size 1200x600 with 1 Axes>"
      ]
     },
     "metadata": {},
     "output_type": "display_data"
    }
   ],
   "source": [
    "fig, axes = plt.subplots(figsize=(12,6))\n",
    "sns.violinplot(x=\"duracao_em_min\", data=df, color=\"gray\")\n",
    "axes.set_title(\"Gráfico de violino\")\n",
    "plt.show()"
   ]
  },
  {
   "cell_type": "code",
   "execution_count": 34,
   "id": "71d54242",
   "metadata": {},
   "outputs": [
    {
     "data": {
      "image/png": "[encoded data removed]",
      "text/plain": [
       "<Figure size 800x600 with 1 Axes>"
      ]
     },
     "metadata": {},
     "output_type": "display_data"
    }
   ],
   "source": [
    "fig, ax = plt.subplots(figsize=(8,6))\n",
    "sns.violinplot(x=\"duracao_em_min\", data=df, ax=ax, color=\"lightgray\")\n",
    "sns.boxplot(x=\"duracao_em_min\", data=df, ax=ax, whis=1.5, color=\"darkblue\")\n",
    "\n",
    "ax.set_title(\"Visualização Violino e Boxplot\")\n",
    "plt.show()"
   ]
  },
  {
   "cell_type": "code",
   "execution_count": 35,
   "id": "d35c36e2",
   "metadata": {},
   "outputs": [
    {
     "data": {
      "application/vnd.microsoft.datawrangler.viewer.v0+json": {
       "columns": [
        {
         "name": "index",
         "rawType": "int64",
         "type": "integer"
        },
        {
         "name": "name",
         "rawType": "object",
         "type": "string"
        },
        {
         "name": "album",
         "rawType": "object",
         "type": "string"
        },
        {
         "name": "release_date",
         "rawType": "datetime64[ns]",
         "type": "datetime"
        },
        {
         "name": "track_number",
         "rawType": "int64",
         "type": "integer"
        },
        {
         "name": "acousticness",
         "rawType": "float64",
         "type": "float"
        },
        {
         "name": "danceability",
         "rawType": "float64",
         "type": "float"
        },
        {
         "name": "energy",
         "rawType": "float64",
         "type": "float"
        },
        {
         "name": "instrumentalness",
         "rawType": "float64",
         "type": "float"
        },
        {
         "name": "liveness",
         "rawType": "float64",
         "type": "float"
        },
        {
         "name": "loudness",
         "rawType": "float64",
         "type": "float"
        },
        {
         "name": "speechiness",
         "rawType": "float64",
         "type": "float"
        },
        {
         "name": "tempo",
         "rawType": "float64",
         "type": "float"
        },
        {
         "name": "valence",
         "rawType": "float64",
         "type": "float"
        },
        {
         "name": "popularity",
         "rawType": "int64",
         "type": "integer"
        },
        {
         "name": "duration_ms",
         "rawType": "int64",
         "type": "integer"
        },
        {
         "name": "duracao_em_min",
         "rawType": "float64",
         "type": "float"
        }
       ],
       "ref": "6d736f1a-1601-4987-8c5b-aebcc3c04231",
       "rows": [
        [
         "0",
         "Concert Intro Music - Live",
         "Licked Live In NYC",
         "2022-06-10 00:00:00",
         "1",
         "0.0824",
         "0.463",
         "0.993",
         "0.996",
         "0.932",
         "-12.913",
         "0.11",
         "118.001",
         "0.0302",
         "33",
         "48640",
         "0.8106666666666666"
        ],
        [
         "1",
         "Street Fighting Man - Live",
         "Licked Live In NYC",
         "2022-06-10 00:00:00",
         "2",
         "0.437",
         "0.326",
         "0.965",
         "0.233",
         "0.961",
         "-4.803",
         "0.0759",
         "131.455",
         "0.318",
         "34",
         "253173",
         "4.21955"
        ],
        [
         "2",
         "Start Me Up - Live",
         "Licked Live In NYC",
         "2022-06-10 00:00:00",
         "3",
         "0.416",
         "0.386",
         "0.969",
         "0.4",
         "0.956",
         "-4.936",
         "0.115",
         "130.066",
         "0.313",
         "34",
         "263160",
         "4.386"
        ],
        [
         "3",
         "If You Can't Rock Me - Live",
         "Licked Live In NYC",
         "2022-06-10 00:00:00",
         "4",
         "0.567",
         "0.369",
         "0.985",
         "0.000107",
         "0.895",
         "-5.535",
         "0.193",
         "132.994",
         "0.147",
         "32",
         "305880",
         "5.098"
        ],
        [
         "4",
         "Don’t Stop - Live",
         "Licked Live In NYC",
         "2022-06-10 00:00:00",
         "5",
         "0.4",
         "0.303",
         "0.969",
         "0.0559",
         "0.966",
         "-5.098",
         "0.093",
         "130.533",
         "0.206",
         "32",
         "305106",
         "5.0851"
        ]
       ],
       "shape": {
        "columns": 16,
        "rows": 5
       }
      },
      "text/html": [
       "<div>\n",
       "<style scoped>\n",
       "    .dataframe tbody tr th:only-of-type {\n",
       "        vertical-align: middle;\n",
       "    }\n",
       "\n",
       "    .dataframe tbody tr th {\n",
       "        vertical-align: top;\n",
       "    }\n",
       "\n",
       "    .dataframe thead th {\n",
       "        text-align: right;\n",
       "    }\n",
       "</style>\n",
       "<table border=\"1\" class=\"dataframe\">\n",
       "  <thead>\n",
       "    <tr style=\"text-align: right;\">\n",
       "      <th></th>\n",
       "      <th>name</th>\n",
       "      <th>album</th>\n",
       "      <th>release_date</th>\n",
       "      <th>track_number</th>\n",
       "      <th>acousticness</th>\n",
       "      <th>danceability</th>\n",
       "      <th>energy</th>\n",
       "      <th>instrumentalness</th>\n",
       "      <th>liveness</th>\n",
       "      <th>loudness</th>\n",
       "      <th>speechiness</th>\n",
       "      <th>tempo</th>\n",
       "      <th>valence</th>\n",
       "      <th>popularity</th>\n",
       "      <th>duration_ms</th>\n",
       "      <th>duracao_em_min</th>\n",
       "    </tr>\n",
       "  </thead>\n",
       "  <tbody>\n",
       "    <tr>\n",
       "      <th>0</th>\n",
       "      <td>Concert Intro Music - Live</td>\n",
       "      <td>Licked Live In NYC</td>\n",
       "      <td>2022-06-10</td>\n",
       "      <td>1</td>\n",
       "      <td>0.0824</td>\n",
       "      <td>0.463</td>\n",
       "      <td>0.993</td>\n",
       "      <td>0.996000</td>\n",
       "      <td>0.932</td>\n",
       "      <td>-12.913</td>\n",
       "      <td>0.1100</td>\n",
       "      <td>118.001</td>\n",
       "      <td>0.0302</td>\n",
       "      <td>33</td>\n",
       "      <td>48640</td>\n",
       "      <td>0.810667</td>\n",
       "    </tr>\n",
       "    <tr>\n",
       "      <th>1</th>\n",
       "      <td>Street Fighting Man - Live</td>\n",
       "      <td>Licked Live In NYC</td>\n",
       "      <td>2022-06-10</td>\n",
       "      <td>2</td>\n",
       "      <td>0.4370</td>\n",
       "      <td>0.326</td>\n",
       "      <td>0.965</td>\n",
       "      <td>0.233000</td>\n",
       "      <td>0.961</td>\n",
       "      <td>-4.803</td>\n",
       "      <td>0.0759</td>\n",
       "      <td>131.455</td>\n",
       "      <td>0.3180</td>\n",
       "      <td>34</td>\n",
       "      <td>253173</td>\n",
       "      <td>4.219550</td>\n",
       "    </tr>\n",
       "    <tr>\n",
       "      <th>2</th>\n",
       "      <td>Start Me Up - Live</td>\n",
       "      <td>Licked Live In NYC</td>\n",
       "      <td>2022-06-10</td>\n",
       "      <td>3</td>\n",
       "      <td>0.4160</td>\n",
       "      <td>0.386</td>\n",
       "      <td>0.969</td>\n",
       "      <td>0.400000</td>\n",
       "      <td>0.956</td>\n",
       "      <td>-4.936</td>\n",
       "      <td>0.1150</td>\n",
       "      <td>130.066</td>\n",
       "      <td>0.3130</td>\n",
       "      <td>34</td>\n",
       "      <td>263160</td>\n",
       "      <td>4.386000</td>\n",
       "    </tr>\n",
       "    <tr>\n",
       "      <th>3</th>\n",
       "      <td>If You Can't Rock Me - Live</td>\n",
       "      <td>Licked Live In NYC</td>\n",
       "      <td>2022-06-10</td>\n",
       "      <td>4</td>\n",
       "      <td>0.5670</td>\n",
       "      <td>0.369</td>\n",
       "      <td>0.985</td>\n",
       "      <td>0.000107</td>\n",
       "      <td>0.895</td>\n",
       "      <td>-5.535</td>\n",
       "      <td>0.1930</td>\n",
       "      <td>132.994</td>\n",
       "      <td>0.1470</td>\n",
       "      <td>32</td>\n",
       "      <td>305880</td>\n",
       "      <td>5.098000</td>\n",
       "    </tr>\n",
       "    <tr>\n",
       "      <th>4</th>\n",
       "      <td>Don’t Stop - Live</td>\n",
       "      <td>Licked Live In NYC</td>\n",
       "      <td>2022-06-10</td>\n",
       "      <td>5</td>\n",
       "      <td>0.4000</td>\n",
       "      <td>0.303</td>\n",
       "      <td>0.969</td>\n",
       "      <td>0.055900</td>\n",
       "      <td>0.966</td>\n",
       "      <td>-5.098</td>\n",
       "      <td>0.0930</td>\n",
       "      <td>130.533</td>\n",
       "      <td>0.2060</td>\n",
       "      <td>32</td>\n",
       "      <td>305106</td>\n",
       "      <td>5.085100</td>\n",
       "    </tr>\n",
       "  </tbody>\n",
       "</table>\n",
       "</div>"
      ],
      "text/plain": [
       "                          name               album release_date  track_number  \\\n",
       "0   Concert Intro Music - Live  Licked Live In NYC   2022-06-10             1   \n",
       "1   Street Fighting Man - Live  Licked Live In NYC   2022-06-10             2   \n",
       "2           Start Me Up - Live  Licked Live In NYC   2022-06-10             3   \n",
       "3  If You Can't Rock Me - Live  Licked Live In NYC   2022-06-10             4   \n",
       "4            Don’t Stop - Live  Licked Live In NYC   2022-06-10             5   \n",
       "\n",
       "   acousticness  danceability  energy  instrumentalness  liveness  loudness  \\\n",
       "0        0.0824         0.463   0.993          0.996000     0.932   -12.913   \n",
       "1        0.4370         0.326   0.965          0.233000     0.961    -4.803   \n",
       "2        0.4160         0.386   0.969          0.400000     0.956    -4.936   \n",
       "3        0.5670         0.369   0.985          0.000107     0.895    -5.535   \n",
       "4        0.4000         0.303   0.969          0.055900     0.966    -5.098   \n",
       "\n",
       "   speechiness    tempo  valence  popularity  duration_ms  duracao_em_min  \n",
       "0       0.1100  118.001   0.0302          33        48640        0.810667  \n",
       "1       0.0759  131.455   0.3180          34       253173        4.219550  \n",
       "2       0.1150  130.066   0.3130          34       263160        4.386000  \n",
       "3       0.1930  132.994   0.1470          32       305880        5.098000  \n",
       "4       0.0930  130.533   0.2060          32       305106        5.085100  "
      ]
     },
     "execution_count": 35,
     "metadata": {},
     "output_type": "execute_result"
    }
   ],
   "source": [
    "df.head()"
   ]
  },
  {
   "cell_type": "code",
   "execution_count": 36,
   "id": "732e679e",
   "metadata": {},
   "outputs": [],
   "source": [
    "def classifica_musica_ao_vivo(df):\n",
    "    if df[\"liveness\"] >= 0.8:\n",
    "        return True\n",
    "    else: \n",
    "        return False"
   ]
  },
  {
   "cell_type": "code",
   "execution_count": 37,
   "id": "a66ae33e",
   "metadata": {},
   "outputs": [],
   "source": [
    "df[\"ao_vivo\"] = df.apply(classifica_musica_ao_vivo, axis=1)"
   ]
  },
  {
   "cell_type": "code",
   "execution_count": 38,
   "id": "c375a1c1",
   "metadata": {},
   "outputs": [
    {
     "data": {
      "application/vnd.microsoft.datawrangler.viewer.v0+json": {
       "columns": [
        {
         "name": "index",
         "rawType": "int64",
         "type": "integer"
        },
        {
         "name": "name",
         "rawType": "object",
         "type": "string"
        },
        {
         "name": "album",
         "rawType": "object",
         "type": "string"
        },
        {
         "name": "release_date",
         "rawType": "datetime64[ns]",
         "type": "datetime"
        },
        {
         "name": "track_number",
         "rawType": "int64",
         "type": "integer"
        },
        {
         "name": "acousticness",
         "rawType": "float64",
         "type": "float"
        },
        {
         "name": "danceability",
         "rawType": "float64",
         "type": "float"
        },
        {
         "name": "energy",
         "rawType": "float64",
         "type": "float"
        },
        {
         "name": "instrumentalness",
         "rawType": "float64",
         "type": "float"
        },
        {
         "name": "liveness",
         "rawType": "float64",
         "type": "float"
        },
        {
         "name": "loudness",
         "rawType": "float64",
         "type": "float"
        },
        {
         "name": "speechiness",
         "rawType": "float64",
         "type": "float"
        },
        {
         "name": "tempo",
         "rawType": "float64",
         "type": "float"
        },
        {
         "name": "valence",
         "rawType": "float64",
         "type": "float"
        },
        {
         "name": "popularity",
         "rawType": "int64",
         "type": "integer"
        },
        {
         "name": "duration_ms",
         "rawType": "int64",
         "type": "integer"
        },
        {
         "name": "duracao_em_min",
         "rawType": "float64",
         "type": "float"
        },
        {
         "name": "ao_vivo",
         "rawType": "bool",
         "type": "boolean"
        }
       ],
       "ref": "361db94c-5224-4380-96f8-0ddbc9333893",
       "rows": [
        [
         "0",
         "Concert Intro Music - Live",
         "Licked Live In NYC",
         "2022-06-10 00:00:00",
         "1",
         "0.0824",
         "0.463",
         "0.993",
         "0.996",
         "0.932",
         "-12.913",
         "0.11",
         "118.001",
         "0.0302",
         "33",
         "48640",
         "0.8106666666666666",
         "True"
        ],
        [
         "1",
         "Street Fighting Man - Live",
         "Licked Live In NYC",
         "2022-06-10 00:00:00",
         "2",
         "0.437",
         "0.326",
         "0.965",
         "0.233",
         "0.961",
         "-4.803",
         "0.0759",
         "131.455",
         "0.318",
         "34",
         "253173",
         "4.21955",
         "True"
        ],
        [
         "2",
         "Start Me Up - Live",
         "Licked Live In NYC",
         "2022-06-10 00:00:00",
         "3",
         "0.416",
         "0.386",
         "0.969",
         "0.4",
         "0.956",
         "-4.936",
         "0.115",
         "130.066",
         "0.313",
         "34",
         "263160",
         "4.386",
         "True"
        ],
        [
         "3",
         "If You Can't Rock Me - Live",
         "Licked Live In NYC",
         "2022-06-10 00:00:00",
         "4",
         "0.567",
         "0.369",
         "0.985",
         "0.000107",
         "0.895",
         "-5.535",
         "0.193",
         "132.994",
         "0.147",
         "32",
         "305880",
         "5.098",
         "True"
        ],
        [
         "4",
         "Don’t Stop - Live",
         "Licked Live In NYC",
         "2022-06-10 00:00:00",
         "5",
         "0.4",
         "0.303",
         "0.969",
         "0.0559",
         "0.966",
         "-5.098",
         "0.093",
         "130.533",
         "0.206",
         "32",
         "305106",
         "5.0851",
         "True"
        ]
       ],
       "shape": {
        "columns": 17,
        "rows": 5
       }
      },
      "text/html": [
       "<div>\n",
       "<style scoped>\n",
       "    .dataframe tbody tr th:only-of-type {\n",
       "        vertical-align: middle;\n",
       "    }\n",
       "\n",
       "    .dataframe tbody tr th {\n",
       "        vertical-align: top;\n",
       "    }\n",
       "\n",
       "    .dataframe thead th {\n",
       "        text-align: right;\n",
       "    }\n",
       "</style>\n",
       "<table border=\"1\" class=\"dataframe\">\n",
       "  <thead>\n",
       "    <tr style=\"text-align: right;\">\n",
       "      <th></th>\n",
       "      <th>name</th>\n",
       "      <th>album</th>\n",
       "      <th>release_date</th>\n",
       "      <th>track_number</th>\n",
       "      <th>acousticness</th>\n",
       "      <th>danceability</th>\n",
       "      <th>energy</th>\n",
       "      <th>instrumentalness</th>\n",
       "      <th>liveness</th>\n",
       "      <th>loudness</th>\n",
       "      <th>speechiness</th>\n",
       "      <th>tempo</th>\n",
       "      <th>valence</th>\n",
       "      <th>popularity</th>\n",
       "      <th>duration_ms</th>\n",
       "      <th>duracao_em_min</th>\n",
       "      <th>ao_vivo</th>\n",
       "    </tr>\n",
       "  </thead>\n",
       "  <tbody>\n",
       "    <tr>\n",
       "      <th>0</th>\n",
       "      <td>Concert Intro Music - Live</td>\n",
       "      <td>Licked Live In NYC</td>\n",
       "      <td>2022-06-10</td>\n",
       "      <td>1</td>\n",
       "      <td>0.0824</td>\n",
       "      <td>0.463</td>\n",
       "      <td>0.993</td>\n",
       "      <td>0.996000</td>\n",
       "      <td>0.932</td>\n",
       "      <td>-12.913</td>\n",
       "      <td>0.1100</td>\n",
       "      <td>118.001</td>\n",
       "      <td>0.0302</td>\n",
       "      <td>33</td>\n",
       "      <td>48640</td>\n",
       "      <td>0.810667</td>\n",
       "      <td>True</td>\n",
       "    </tr>\n",
       "    <tr>\n",
       "      <th>1</th>\n",
       "      <td>Street Fighting Man - Live</td>\n",
       "      <td>Licked Live In NYC</td>\n",
       "      <td>2022-06-10</td>\n",
       "      <td>2</td>\n",
       "      <td>0.4370</td>\n",
       "      <td>0.326</td>\n",
       "      <td>0.965</td>\n",
       "      <td>0.233000</td>\n",
       "      <td>0.961</td>\n",
       "      <td>-4.803</td>\n",
       "      <td>0.0759</td>\n",
       "      <td>131.455</td>\n",
       "      <td>0.3180</td>\n",
       "      <td>34</td>\n",
       "      <td>253173</td>\n",
       "      <td>4.219550</td>\n",
       "      <td>True</td>\n",
       "    </tr>\n",
       "    <tr>\n",
       "      <th>2</th>\n",
       "      <td>Start Me Up - Live</td>\n",
       "      <td>Licked Live In NYC</td>\n",
       "      <td>2022-06-10</td>\n",
       "      <td>3</td>\n",
       "      <td>0.4160</td>\n",
       "      <td>0.386</td>\n",
       "      <td>0.969</td>\n",
       "      <td>0.400000</td>\n",
       "      <td>0.956</td>\n",
       "      <td>-4.936</td>\n",
       "      <td>0.1150</td>\n",
       "      <td>130.066</td>\n",
       "      <td>0.3130</td>\n",
       "      <td>34</td>\n",
       "      <td>263160</td>\n",
       "      <td>4.386000</td>\n",
       "      <td>True</td>\n",
       "    </tr>\n",
       "    <tr>\n",
       "      <th>3</th>\n",
       "      <td>If You Can't Rock Me - Live</td>\n",
       "      <td>Licked Live In NYC</td>\n",
       "      <td>2022-06-10</td>\n",
       "      <td>4</td>\n",
       "      <td>0.5670</td>\n",
       "      <td>0.369</td>\n",
       "      <td>0.985</td>\n",
       "      <td>0.000107</td>\n",
       "      <td>0.895</td>\n",
       "      <td>-5.535</td>\n",
       "      <td>0.1930</td>\n",
       "      <td>132.994</td>\n",
       "      <td>0.1470</td>\n",
       "      <td>32</td>\n",
       "      <td>305880</td>\n",
       "      <td>5.098000</td>\n",
       "      <td>True</td>\n",
       "    </tr>\n",
       "    <tr>\n",
       "      <th>4</th>\n",
       "      <td>Don’t Stop - Live</td>\n",
       "      <td>Licked Live In NYC</td>\n",
       "      <td>2022-06-10</td>\n",
       "      <td>5</td>\n",
       "      <td>0.4000</td>\n",
       "      <td>0.303</td>\n",
       "      <td>0.969</td>\n",
       "      <td>0.055900</td>\n",
       "      <td>0.966</td>\n",
       "      <td>-5.098</td>\n",
       "      <td>0.0930</td>\n",
       "      <td>130.533</td>\n",
       "      <td>0.2060</td>\n",
       "      <td>32</td>\n",
       "      <td>305106</td>\n",
       "      <td>5.085100</td>\n",
       "      <td>True</td>\n",
       "    </tr>\n",
       "  </tbody>\n",
       "</table>\n",
       "</div>"
      ],
      "text/plain": [
       "                          name               album release_date  track_number  \\\n",
       "0   Concert Intro Music - Live  Licked Live In NYC   2022-06-10             1   \n",
       "1   Street Fighting Man - Live  Licked Live In NYC   2022-06-10             2   \n",
       "2           Start Me Up - Live  Licked Live In NYC   2022-06-10             3   \n",
       "3  If You Can't Rock Me - Live  Licked Live In NYC   2022-06-10             4   \n",
       "4            Don’t Stop - Live  Licked Live In NYC   2022-06-10             5   \n",
       "\n",
       "   acousticness  danceability  energy  instrumentalness  liveness  loudness  \\\n",
       "0        0.0824         0.463   0.993          0.996000     0.932   -12.913   \n",
       "1        0.4370         0.326   0.965          0.233000     0.961    -4.803   \n",
       "2        0.4160         0.386   0.969          0.400000     0.956    -4.936   \n",
       "3        0.5670         0.369   0.985          0.000107     0.895    -5.535   \n",
       "4        0.4000         0.303   0.969          0.055900     0.966    -5.098   \n",
       "\n",
       "   speechiness    tempo  valence  popularity  duration_ms  duracao_em_min  \\\n",
       "0       0.1100  118.001   0.0302          33        48640        0.810667   \n",
       "1       0.0759  131.455   0.3180          34       253173        4.219550   \n",
       "2       0.1150  130.066   0.3130          34       263160        4.386000   \n",
       "3       0.1930  132.994   0.1470          32       305880        5.098000   \n",
       "4       0.0930  130.533   0.2060          32       305106        5.085100   \n",
       "\n",
       "   ao_vivo  \n",
       "0     True  \n",
       "1     True  \n",
       "2     True  \n",
       "3     True  \n",
       "4     True  "
      ]
     },
     "execution_count": 38,
     "metadata": {},
     "output_type": "execute_result"
    }
   ],
   "source": [
    "df.head()"
   ]
  },
  {
   "cell_type": "code",
   "execution_count": 39,
   "id": "21a2087c",
   "metadata": {},
   "outputs": [
    {
     "data": {
      "application/vnd.microsoft.datawrangler.viewer.v0+json": {
       "columns": [
        {
         "name": "ao_vivo",
         "rawType": "bool",
         "type": "boolean"
        },
        {
         "name": "ao_vivo",
         "rawType": "int64",
         "type": "integer"
        }
       ],
       "ref": "a5796ed4-788f-44eb-93a4-94288ca74f16",
       "rows": [
        [
         "False",
         "1112"
        ],
        [
         "True",
         "498"
        ]
       ],
       "shape": {
        "columns": 1,
        "rows": 2
       }
      },
      "text/plain": [
       "ao_vivo\n",
       "False    1112\n",
       "True      498\n",
       "Name: ao_vivo, dtype: int64"
      ]
     },
     "execution_count": 39,
     "metadata": {},
     "output_type": "execute_result"
    }
   ],
   "source": [
    "df.groupby(\"ao_vivo\")[\"ao_vivo\"].count()"
   ]
  },
  {
   "cell_type": "code",
   "execution_count": 40,
   "id": "188e141c",
   "metadata": {},
   "outputs": [],
   "source": [
    "df_gravado_em_studio = df[df[\"ao_vivo\"] == False]\n",
    "df_show_ao_vivo = df[df[\"ao_vivo\"] == True]"
   ]
  },
  {
   "cell_type": "code",
   "execution_count": 41,
   "id": "9c322129",
   "metadata": {},
   "outputs": [
    {
     "data": {
      "application/vnd.microsoft.datawrangler.viewer.v0+json": {
       "columns": [
        {
         "name": "index",
         "rawType": "int64",
         "type": "integer"
        },
        {
         "name": "name",
         "rawType": "object",
         "type": "string"
        },
        {
         "name": "album",
         "rawType": "object",
         "type": "string"
        },
        {
         "name": "release_date",
         "rawType": "datetime64[ns]",
         "type": "datetime"
        },
        {
         "name": "track_number",
         "rawType": "int64",
         "type": "integer"
        },
        {
         "name": "acousticness",
         "rawType": "float64",
         "type": "float"
        },
        {
         "name": "danceability",
         "rawType": "float64",
         "type": "float"
        },
        {
         "name": "energy",
         "rawType": "float64",
         "type": "float"
        },
        {
         "name": "instrumentalness",
         "rawType": "float64",
         "type": "float"
        },
        {
         "name": "liveness",
         "rawType": "float64",
         "type": "float"
        },
        {
         "name": "loudness",
         "rawType": "float64",
         "type": "float"
        },
        {
         "name": "speechiness",
         "rawType": "float64",
         "type": "float"
        },
        {
         "name": "tempo",
         "rawType": "float64",
         "type": "float"
        },
        {
         "name": "valence",
         "rawType": "float64",
         "type": "float"
        },
        {
         "name": "popularity",
         "rawType": "int64",
         "type": "integer"
        },
        {
         "name": "duration_ms",
         "rawType": "int64",
         "type": "integer"
        },
        {
         "name": "duracao_em_min",
         "rawType": "float64",
         "type": "float"
        },
        {
         "name": "ao_vivo",
         "rawType": "bool",
         "type": "boolean"
        }
       ],
       "ref": "fc4908b5-3fe2-47bc-a79a-91aff9e59b71",
       "rows": [
        [
         "5",
         "Monkey Man - Live",
         "Licked Live In NYC",
         "2022-06-10 00:00:00",
         "6",
         "0.275",
         "0.34",
         "0.956",
         "0.125",
         "0.741",
         "-5.539",
         "0.0915",
         "101.628",
         "0.125",
         "31",
         "244293",
         "4.07155",
         "False"
        ],
        [
         "23",
         "Honky Tonk Women - Live At The El Mocambo 1977",
         "Live At The El Mocambo",
         "2022-05-13 00:00:00",
         "1",
         "0.162",
         "0.43",
         "0.901",
         "0.011",
         "0.694",
         "-6.215",
         "0.045",
         "112.077",
         "0.89",
         "32",
         "216546",
         "3.6091",
         "False"
        ],
        [
         "25",
         "Hand Of Fate - Live At The El Mocambo 1977",
         "Live At The El Mocambo",
         "2022-05-13 00:00:00",
         "3",
         "0.0654",
         "0.477",
         "0.899",
         "0.0376",
         "0.727",
         "-6.189",
         "0.0425",
         "129.991",
         "0.805",
         "29",
         "267866",
         "4.464433333333333",
         "False"
        ],
        [
         "26",
         "Route 66 - Live At The El Mocambo 1977",
         "Live At The El Mocambo",
         "2022-05-13 00:00:00",
         "4",
         "0.0975",
         "0.473",
         "0.923",
         "0.00157",
         "0.722",
         "-6.204",
         "0.0791",
         "144.625",
         "0.792",
         "30",
         "193653",
         "3.22755",
         "False"
        ],
        [
         "28",
         "Crazy Mama - Live At The El Mocambo 1977",
         "Live At The El Mocambo",
         "2022-05-13 00:00:00",
         "6",
         "0.0288",
         "0.447",
         "0.883",
         "0.00554",
         "0.726",
         "-6.266",
         "0.0371",
         "117.604",
         "0.556",
         "29",
         "299213",
         "4.986883333333333",
         "False"
        ],
        [
         "30",
         "Crackin’ Up - Live At The El Mocambo 1977",
         "Live At The El Mocambo",
         "2022-05-13 00:00:00",
         "8",
         "0.308",
         "0.594",
         "0.801",
         "0.103",
         "0.699",
         "-7.448",
         "0.0277",
         "105.572",
         "0.925",
         "27",
         "254506",
         "4.241766666666667",
         "False"
        ],
        [
         "33",
         "Tumbling Dice - Live At The El Mocambo 1977",
         "Live At The El Mocambo",
         "2022-05-13 00:00:00",
         "11",
         "0.133",
         "0.45",
         "0.842",
         "0.0358",
         "0.758",
         "-7.254",
         "0.0343",
         "107.825",
         "0.768",
         "32",
         "296226",
         "4.9371",
         "False"
        ],
        [
         "34",
         "Hot Stuff - Live At The El Mocambo 1977",
         "Live At The El Mocambo",
         "2022-05-13 00:00:00",
         "12",
         "0.0372",
         "0.497",
         "0.914",
         "0.181",
         "0.753",
         "-6.82",
         "0.0487",
         "110.005",
         "0.791",
         "27",
         "328613",
         "5.476883333333333",
         "False"
        ],
        [
         "36",
         "Let's Spend The Night Together - Live At The El Mocambo 1977",
         "Live At The El Mocambo",
         "2022-05-13 00:00:00",
         "14",
         "0.122",
         "0.37",
         "0.89",
         "0.000808",
         "0.7",
         "-6.004",
         "0.0408",
         "78.472",
         "0.723",
         "26",
         "228253",
         "3.8042166666666666",
         "False"
        ],
        [
         "37",
         "Worried Life Blues - Live At The El Mocambo 1977",
         "Live At The El Mocambo",
         "2022-05-13 00:00:00",
         "15",
         "0.239",
         "0.417",
         "0.677",
         "0.00296",
         "0.759",
         "-8.309",
         "0.0461",
         "111.718",
         "0.589",
         "26",
         "326706",
         "5.4451",
         "False"
        ],
        [
         "38",
         "Little Red Rooster - Live At The El Mocambo 1977",
         "Live At The El Mocambo",
         "2022-05-13 00:00:00",
         "16",
         "0.194",
         "0.292",
         "0.608",
         "0.00879",
         "0.746",
         "-8.809",
         "0.0341",
         "98.803",
         "0.43",
         "25",
         "290960",
         "4.849333333333333",
         "False"
        ],
        [
         "44",
         "Luxury - Live At The El Mocambo 1977",
         "Live At The El Mocambo",
         "2022-05-13 00:00:00",
         "22",
         "0.126",
         "0.568",
         "0.789",
         "0.0515",
         "0.728",
         "-6.731",
         "0.0284",
         "127.512",
         "0.946",
         "24",
         "311760",
         "5.196",
         "False"
        ],
        [
         "45",
         "Worried About You - Live At The El Mocambo 1977",
         "Live At The El Mocambo",
         "2022-05-13 00:00:00",
         "23",
         "0.511",
         "0.389",
         "0.717",
         "0.00627",
         "0.714",
         "-6.576",
         "0.0263",
         "82.795",
         "0.633",
         "25",
         "491053",
         "8.184216666666666",
         "False"
        ],
        [
         "46",
         "Start Me Up - Remastered 2021",
         "Tattoo You (Super Deluxe)",
         "2021-10-22 00:00:00",
         "1",
         "0.0302",
         "0.555",
         "0.956",
         "0.367",
         "0.0753",
         "-2.147",
         "0.0577",
         "121.752",
         "0.933",
         "39",
         "214173",
         "3.56955",
         "False"
        ],
        [
         "47",
         "Hang Fire - Remastered 2021",
         "Tattoo You (Super Deluxe)",
         "2021-10-22 00:00:00",
         "2",
         "0.0136",
         "0.421",
         "0.927",
         "0.0797",
         "0.264",
         "-1.734",
         "0.0345",
         "151.096",
         "0.922",
         "29",
         "141626",
         "2.3604333333333334",
         "False"
        ],
        [
         "48",
         "Slave - Remastered 2021",
         "Tattoo You (Super Deluxe)",
         "2021-10-22 00:00:00",
         "3",
         "0.13",
         "0.558",
         "0.898",
         "0.306",
         "0.0562",
         "-4.314",
         "0.0515",
         "133.338",
         "0.853",
         "29",
         "392426",
         "6.5404333333333335",
         "False"
        ],
        [
         "49",
         "Little T&A - Remastered 2021",
         "Tattoo You (Super Deluxe)",
         "2021-10-22 00:00:00",
         "4",
         "0.156",
         "0.497",
         "0.953",
         "0.0429",
         "0.667",
         "-1.978",
         "0.0328",
         "135.453",
         "0.801",
         "28",
         "204440",
         "3.4073333333333333",
         "False"
        ],
        [
         "50",
         "Black Limousine - Remastered 2021",
         "Tattoo You (Super Deluxe)",
         "2021-10-22 00:00:00",
         "5",
         "0.122",
         "0.48",
         "0.934",
         "0.198",
         "0.701",
         "-1.382",
         "0.0715",
         "108.894",
         "0.825",
         "25",
         "214893",
         "3.58155",
         "False"
        ],
        [
         "51",
         "Neighbours - Remastered 2021",
         "Tattoo You (Super Deluxe)",
         "2021-10-22 00:00:00",
         "6",
         "0.0754",
         "0.479",
         "0.981",
         "0.00563",
         "0.245",
         "-1.712",
         "0.071",
         "82.412",
         "0.671",
         "24",
         "214306",
         "3.5717666666666665",
         "False"
        ],
        [
         "52",
         "Worried About You - Remastered 2021",
         "Tattoo You (Super Deluxe)",
         "2021-10-22 00:00:00",
         "7",
         "0.0804",
         "0.423",
         "0.714",
         "0.000517",
         "0.082",
         "-4.01",
         "0.0318",
         "84.351",
         "0.383",
         "26",
         "318253",
         "5.304216666666667",
         "False"
        ],
        [
         "53",
         "Tops - Remastered 2021",
         "Tattoo You (Super Deluxe)",
         "2021-10-22 00:00:00",
         "8",
         "0.0952",
         "0.57",
         "0.826",
         "4.6e-05",
         "0.11",
         "-3.225",
         "0.0457",
         "80.247",
         "0.634",
         "26",
         "229093",
         "3.818216666666667",
         "False"
        ],
        [
         "54",
         "Heaven - Remastered 2021",
         "Tattoo You (Super Deluxe)",
         "2021-10-22 00:00:00",
         "9",
         "0.174",
         "0.611",
         "0.559",
         "0.0167",
         "0.132",
         "-5.833",
         "0.0325",
         "114.128",
         "0.111",
         "31",
         "263186",
         "4.386433333333334",
         "False"
        ],
        [
         "55",
         "No Use In Crying - Remastered 2021",
         "Tattoo You (Super Deluxe)",
         "2021-10-22 00:00:00",
         "10",
         "0.578",
         "0.594",
         "0.609",
         "0.000337",
         "0.229",
         "-3.171",
         "0.0311",
         "142.838",
         "0.404",
         "25",
         "206533",
         "3.4422166666666665",
         "False"
        ],
        [
         "56",
         "Waiting On A Friend - Remastered 2021",
         "Tattoo You (Super Deluxe)",
         "2021-10-22 00:00:00",
         "11",
         "0.0921",
         "0.57",
         "0.86",
         "0.111",
         "0.632",
         "-2.903",
         "0.0315",
         "116.607",
         "0.885",
         "29",
         "275760",
         "4.596",
         "False"
        ],
        [
         "57",
         "Living In The Heart Of Love",
         "Tattoo You (Super Deluxe)",
         "2021-10-22 00:00:00",
         "1",
         "0.00869",
         "0.463",
         "0.925",
         "0.0825",
         "0.0791",
         "-1.392",
         "0.0962",
         "132.485",
         "0.761",
         "26",
         "253053",
         "4.21755",
         "False"
        ],
        [
         "58",
         "Fiji Jim",
         "Tattoo You (Super Deluxe)",
         "2021-10-22 00:00:00",
         "2",
         "0.0247",
         "0.33",
         "0.96",
         "0.00585",
         "0.044",
         "-1.014",
         "0.204",
         "179.524",
         "0.624",
         "23",
         "240466",
         "4.007766666666667",
         "False"
        ],
        [
         "59",
         "Troubles A’ Comin",
         "Tattoo You (Super Deluxe)",
         "2021-10-22 00:00:00",
         "3",
         "0.0393",
         "0.582",
         "0.926",
         "0.0604",
         "0.0766",
         "-2.732",
         "0.0612",
         "104.892",
         "0.514",
         "26",
         "256173",
         "4.26955",
         "False"
        ],
        [
         "60",
         "Shame, Shame, Shame",
         "Tattoo You (Super Deluxe)",
         "2021-10-22 00:00:00",
         "4",
         "0.00699",
         "0.475",
         "0.908",
         "0.043",
         "0.319",
         "-3.087",
         "0.0419",
         "78.362",
         "0.564",
         "22",
         "253546",
         "4.225766666666667",
         "False"
        ],
        [
         "61",
         "Drift Away",
         "Tattoo You (Super Deluxe)",
         "2021-10-22 00:00:00",
         "5",
         "0.0971",
         "0.421",
         "0.674",
         "1.05e-05",
         "0.118",
         "-3.404",
         "0.0589",
         "78.519",
         "0.603",
         "31",
         "246586",
         "4.109766666666666",
         "False"
        ],
        [
         "62",
         "It's A Lie",
         "Tattoo You (Super Deluxe)",
         "2021-10-22 00:00:00",
         "6",
         "0.141",
         "0.528",
         "0.978",
         "0.00669",
         "0.406",
         "-2.213",
         "0.119",
         "127.681",
         "0.619",
         "22",
         "297000",
         "4.95",
         "False"
        ],
        [
         "63",
         "Come To The Ball",
         "Tattoo You (Super Deluxe)",
         "2021-10-22 00:00:00",
         "7",
         "0.0127",
         "0.44",
         "0.971",
         "0.339",
         "0.371",
         "-2.498",
         "0.0448",
         "136.086",
         "0.735",
         "28",
         "220720",
         "3.6786666666666665",
         "False"
        ],
        [
         "64",
         "Fast Talking, Slow Walking",
         "Tattoo You (Super Deluxe)",
         "2021-10-22 00:00:00",
         "8",
         "0.429",
         "0.436",
         "0.724",
         "0.00274",
         "0.0523",
         "-2.89",
         "0.0313",
         "73.698",
         "0.277",
         "22",
         "340200",
         "5.67",
         "False"
        ],
        [
         "65",
         "Start Me Up",
         "Tattoo You (Super Deluxe)",
         "2021-10-22 00:00:00",
         "9",
         "0.00482",
         "0.661",
         "0.879",
         "0.00723",
         "0.303",
         "-2.911",
         "0.0778",
         "125.967",
         "0.659",
         "29",
         "250360",
         "4.172666666666666",
         "False"
        ],
        [
         "67",
         "When The Whip Comes Down - Live at Wembley Stadium 1982",
         "Tattoo You (Super Deluxe)",
         "2021-10-22 00:00:00",
         "2",
         "0.194",
         "0.382",
         "0.972",
         "0.959",
         "0.67",
         "-6.821",
         "0.102",
         "79.249",
         "0.436",
         "19",
         "273546",
         "4.5591",
         "False"
        ],
        [
         "81",
         "Band Introductions - Live at Wembley Stadium 1982",
         "Tattoo You (Super Deluxe)",
         "2021-10-22 00:00:00",
         "16",
         "0.898",
         "0.345",
         "0.946",
         "0.0514",
         "0.732",
         "-10.683",
         "0.425",
         "78.893",
         "0.0316",
         "15",
         "71546",
         "1.1924333333333332",
         "False"
        ],
        [
         "84",
         "She's So Cold - Live at Wembley Stadium 1982",
         "Tattoo You (Super Deluxe)",
         "2021-10-22 00:00:00",
         "19",
         "0.219",
         "0.36",
         "0.952",
         "0.673",
         "0.736",
         "-6.579",
         "0.138",
         "168.863",
         "0.618",
         "18",
         "250493",
         "4.174883333333334",
         "False"
        ],
        [
         "92",
         "Start Me Up - Remastered 2021",
         "Tattoo You",
         "2021-10-22 00:00:00",
         "1",
         "0.0302",
         "0.555",
         "0.956",
         "0.367",
         "0.0753",
         "-2.147",
         "0.0577",
         "121.752",
         "0.933",
         "12",
         "214173",
         "3.56955",
         "False"
        ],
        [
         "93",
         "Hang Fire - Remastered 2021",
         "Tattoo You",
         "2021-10-22 00:00:00",
         "2",
         "0.0136",
         "0.421",
         "0.927",
         "0.0797",
         "0.264",
         "-1.734",
         "0.0345",
         "151.096",
         "0.922",
         "11",
         "141626",
         "2.3604333333333334",
         "False"
        ],
        [
         "94",
         "Slave - Remastered 2021",
         "Tattoo You",
         "2021-10-22 00:00:00",
         "3",
         "0.13",
         "0.558",
         "0.898",
         "0.306",
         "0.0562",
         "-4.314",
         "0.0515",
         "133.338",
         "0.853",
         "11",
         "392426",
         "6.5404333333333335",
         "False"
        ],
        [
         "95",
         "Little T&A - Remastered 2021",
         "Tattoo You",
         "2021-10-22 00:00:00",
         "4",
         "0.156",
         "0.497",
         "0.953",
         "0.0429",
         "0.667",
         "-1.978",
         "0.0328",
         "135.453",
         "0.801",
         "13",
         "204440",
         "3.4073333333333333",
         "False"
        ],
        [
         "96",
         "Black Limousine - Remastered 2021",
         "Tattoo You",
         "2021-10-22 00:00:00",
         "5",
         "0.122",
         "0.48",
         "0.934",
         "0.198",
         "0.701",
         "-1.382",
         "0.0715",
         "108.894",
         "0.825",
         "9",
         "214893",
         "3.58155",
         "False"
        ],
        [
         "97",
         "Neighbours - Remastered 2021",
         "Tattoo You",
         "2021-10-22 00:00:00",
         "6",
         "0.0754",
         "0.479",
         "0.981",
         "0.00563",
         "0.245",
         "-1.712",
         "0.071",
         "82.412",
         "0.671",
         "8",
         "214306",
         "3.5717666666666665",
         "False"
        ],
        [
         "98",
         "Worried About You - Remastered 2021",
         "Tattoo You",
         "2021-10-22 00:00:00",
         "7",
         "0.0804",
         "0.423",
         "0.714",
         "0.000517",
         "0.082",
         "-4.01",
         "0.0318",
         "84.351",
         "0.383",
         "10",
         "318253",
         "5.304216666666667",
         "False"
        ],
        [
         "99",
         "Tops - Remastered 2021",
         "Tattoo You",
         "2021-10-22 00:00:00",
         "8",
         "0.0952",
         "0.57",
         "0.826",
         "4.6e-05",
         "0.11",
         "-3.225",
         "0.0457",
         "80.247",
         "0.634",
         "9",
         "229093",
         "3.818216666666667",
         "False"
        ],
        [
         "100",
         "Heaven - Remastered 2021",
         "Tattoo You",
         "2021-10-22 00:00:00",
         "9",
         "0.174",
         "0.611",
         "0.559",
         "0.0167",
         "0.132",
         "-5.833",
         "0.0325",
         "114.128",
         "0.111",
         "12",
         "263186",
         "4.386433333333334",
         "False"
        ],
        [
         "101",
         "No Use In Crying - Remastered 2021",
         "Tattoo You",
         "2021-10-22 00:00:00",
         "10",
         "0.578",
         "0.594",
         "0.609",
         "0.000337",
         "0.229",
         "-3.171",
         "0.0311",
         "142.838",
         "0.404",
         "9",
         "206533",
         "3.4422166666666665",
         "False"
        ],
        [
         "102",
         "Waiting On A Friend - Remastered 2021",
         "Tattoo You",
         "2021-10-22 00:00:00",
         "11",
         "0.0921",
         "0.57",
         "0.86",
         "0.111",
         "0.632",
         "-2.903",
         "0.0315",
         "116.607",
         "0.885",
         "11",
         "275760",
         "4.596",
         "False"
        ],
        [
         "109",
         "Wild Horses - Live",
         "A Bigger Bang (Live)",
         "2021-07-09 00:00:00",
         "7",
         "0.369",
         "0.287",
         "0.757",
         "0.0",
         "0.729",
         "-6.57",
         "0.0455",
         "78.74",
         "0.452",
         "23",
         "336946",
         "5.615766666666667",
         "False"
        ],
        [
         "115",
         "Happy - Live",
         "A Bigger Bang (Live)",
         "2021-07-09 00:00:00",
         "13",
         "0.377",
         "0.229",
         "0.985",
         "0.0322",
         "0.713",
         "-4.765",
         "0.156",
         "137.867",
         "0.164",
         "15",
         "234733",
         "3.9122166666666667",
         "False"
        ],
        [
         "145",
         "2000 Light Years From Home / She’s A Rainbow / Keyboard Duet - Live",
         "Steel Wheels Live",
         "2020-09-25 00:00:00",
         "21",
         "0.0303",
         "0.158",
         "0.855",
         "0.0219",
         "0.708",
         "-7.001",
         "0.078",
         "99.535",
         "0.0612",
         "16",
         "444160",
         "7.402666666666667",
         "False"
        ]
       ],
       "shape": {
        "columns": 17,
        "rows": 1112
       }
      },
      "text/html": [
       "<div>\n",
       "<style scoped>\n",
       "    .dataframe tbody tr th:only-of-type {\n",
       "        vertical-align: middle;\n",
       "    }\n",
       "\n",
       "    .dataframe tbody tr th {\n",
       "        vertical-align: top;\n",
       "    }\n",
       "\n",
       "    .dataframe thead th {\n",
       "        text-align: right;\n",
       "    }\n",
       "</style>\n",
       "<table border=\"1\" class=\"dataframe\">\n",
       "  <thead>\n",
       "    <tr style=\"text-align: right;\">\n",
       "      <th></th>\n",
       "      <th>name</th>\n",
       "      <th>album</th>\n",
       "      <th>release_date</th>\n",
       "      <th>track_number</th>\n",
       "      <th>acousticness</th>\n",
       "      <th>danceability</th>\n",
       "      <th>energy</th>\n",
       "      <th>instrumentalness</th>\n",
       "      <th>liveness</th>\n",
       "      <th>loudness</th>\n",
       "      <th>speechiness</th>\n",
       "      <th>tempo</th>\n",
       "      <th>valence</th>\n",
       "      <th>popularity</th>\n",
       "      <th>duration_ms</th>\n",
       "      <th>duracao_em_min</th>\n",
       "      <th>ao_vivo</th>\n",
       "    </tr>\n",
       "  </thead>\n",
       "  <tbody>\n",
       "    <tr>\n",
       "      <th>5</th>\n",
       "      <td>Monkey Man - Live</td>\n",
       "      <td>Licked Live In NYC</td>\n",
       "      <td>2022-06-10</td>\n",
       "      <td>6</td>\n",
       "      <td>0.2750</td>\n",
       "      <td>0.340</td>\n",
       "      <td>0.956</td>\n",
       "      <td>0.125000</td>\n",
       "      <td>0.7410</td>\n",
       "      <td>-5.539</td>\n",
       "      <td>0.0915</td>\n",
       "      <td>101.628</td>\n",
       "      <td>0.125</td>\n",
       "      <td>31</td>\n",
       "      <td>244293</td>\n",
       "      <td>4.071550</td>\n",
       "      <td>False</td>\n",
       "    </tr>\n",
       "    <tr>\n",
       "      <th>23</th>\n",
       "      <td>Honky Tonk Women - Live At The El Mocambo 1977</td>\n",
       "      <td>Live At The El Mocambo</td>\n",
       "      <td>2022-05-13</td>\n",
       "      <td>1</td>\n",
       "      <td>0.1620</td>\n",
       "      <td>0.430</td>\n",
       "      <td>0.901</td>\n",
       "      <td>0.011000</td>\n",
       "      <td>0.6940</td>\n",
       "      <td>-6.215</td>\n",
       "      <td>0.0450</td>\n",
       "      <td>112.077</td>\n",
       "      <td>0.890</td>\n",
       "      <td>32</td>\n",
       "      <td>216546</td>\n",
       "      <td>3.609100</td>\n",
       "      <td>False</td>\n",
       "    </tr>\n",
       "    <tr>\n",
       "      <th>25</th>\n",
       "      <td>Hand Of Fate - Live At The El Mocambo 1977</td>\n",
       "      <td>Live At The El Mocambo</td>\n",
       "      <td>2022-05-13</td>\n",
       "      <td>3</td>\n",
       "      <td>0.0654</td>\n",
       "      <td>0.477</td>\n",
       "      <td>0.899</td>\n",
       "      <td>0.037600</td>\n",
       "      <td>0.7270</td>\n",
       "      <td>-6.189</td>\n",
       "      <td>0.0425</td>\n",
       "      <td>129.991</td>\n",
       "      <td>0.805</td>\n",
       "      <td>29</td>\n",
       "      <td>267866</td>\n",
       "      <td>4.464433</td>\n",
       "      <td>False</td>\n",
       "    </tr>\n",
       "    <tr>\n",
       "      <th>26</th>\n",
       "      <td>Route 66 - Live At The El Mocambo 1977</td>\n",
       "      <td>Live At The El Mocambo</td>\n",
       "      <td>2022-05-13</td>\n",
       "      <td>4</td>\n",
       "      <td>0.0975</td>\n",
       "      <td>0.473</td>\n",
       "      <td>0.923</td>\n",
       "      <td>0.001570</td>\n",
       "      <td>0.7220</td>\n",
       "      <td>-6.204</td>\n",
       "      <td>0.0791</td>\n",
       "      <td>144.625</td>\n",
       "      <td>0.792</td>\n",
       "      <td>30</td>\n",
       "      <td>193653</td>\n",
       "      <td>3.227550</td>\n",
       "      <td>False</td>\n",
       "    </tr>\n",
       "    <tr>\n",
       "      <th>28</th>\n",
       "      <td>Crazy Mama - Live At The El Mocambo 1977</td>\n",
       "      <td>Live At The El Mocambo</td>\n",
       "      <td>2022-05-13</td>\n",
       "      <td>6</td>\n",
       "      <td>0.0288</td>\n",
       "      <td>0.447</td>\n",
       "      <td>0.883</td>\n",
       "      <td>0.005540</td>\n",
       "      <td>0.7260</td>\n",
       "      <td>-6.266</td>\n",
       "      <td>0.0371</td>\n",
       "      <td>117.604</td>\n",
       "      <td>0.556</td>\n",
       "      <td>29</td>\n",
       "      <td>299213</td>\n",
       "      <td>4.986883</td>\n",
       "      <td>False</td>\n",
       "    </tr>\n",
       "    <tr>\n",
       "      <th>...</th>\n",
       "      <td>...</td>\n",
       "      <td>...</td>\n",
       "      <td>...</td>\n",
       "      <td>...</td>\n",
       "      <td>...</td>\n",
       "      <td>...</td>\n",
       "      <td>...</td>\n",
       "      <td>...</td>\n",
       "      <td>...</td>\n",
       "      <td>...</td>\n",
       "      <td>...</td>\n",
       "      <td>...</td>\n",
       "      <td>...</td>\n",
       "      <td>...</td>\n",
       "      <td>...</td>\n",
       "      <td>...</td>\n",
       "      <td>...</td>\n",
       "    </tr>\n",
       "    <tr>\n",
       "      <th>1605</th>\n",
       "      <td>Carol</td>\n",
       "      <td>The Rolling Stones</td>\n",
       "      <td>1964-04-16</td>\n",
       "      <td>8</td>\n",
       "      <td>0.1570</td>\n",
       "      <td>0.466</td>\n",
       "      <td>0.932</td>\n",
       "      <td>0.006170</td>\n",
       "      <td>0.3240</td>\n",
       "      <td>-9.214</td>\n",
       "      <td>0.0429</td>\n",
       "      <td>177.340</td>\n",
       "      <td>0.967</td>\n",
       "      <td>39</td>\n",
       "      <td>154080</td>\n",
       "      <td>2.568000</td>\n",
       "      <td>False</td>\n",
       "    </tr>\n",
       "    <tr>\n",
       "      <th>1606</th>\n",
       "      <td>Tell Me</td>\n",
       "      <td>The Rolling Stones</td>\n",
       "      <td>1964-04-16</td>\n",
       "      <td>9</td>\n",
       "      <td>0.0576</td>\n",
       "      <td>0.509</td>\n",
       "      <td>0.706</td>\n",
       "      <td>0.000002</td>\n",
       "      <td>0.5160</td>\n",
       "      <td>-9.427</td>\n",
       "      <td>0.0843</td>\n",
       "      <td>122.015</td>\n",
       "      <td>0.446</td>\n",
       "      <td>36</td>\n",
       "      <td>245266</td>\n",
       "      <td>4.087767</td>\n",
       "      <td>False</td>\n",
       "    </tr>\n",
       "    <tr>\n",
       "      <th>1607</th>\n",
       "      <td>Can I Get A Witness</td>\n",
       "      <td>The Rolling Stones</td>\n",
       "      <td>1964-04-16</td>\n",
       "      <td>10</td>\n",
       "      <td>0.3710</td>\n",
       "      <td>0.790</td>\n",
       "      <td>0.774</td>\n",
       "      <td>0.000000</td>\n",
       "      <td>0.0669</td>\n",
       "      <td>-7.961</td>\n",
       "      <td>0.0720</td>\n",
       "      <td>97.035</td>\n",
       "      <td>0.835</td>\n",
       "      <td>30</td>\n",
       "      <td>176080</td>\n",
       "      <td>2.934667</td>\n",
       "      <td>False</td>\n",
       "    </tr>\n",
       "    <tr>\n",
       "      <th>1608</th>\n",
       "      <td>You Can Make It If You Try</td>\n",
       "      <td>The Rolling Stones</td>\n",
       "      <td>1964-04-16</td>\n",
       "      <td>11</td>\n",
       "      <td>0.2170</td>\n",
       "      <td>0.700</td>\n",
       "      <td>0.546</td>\n",
       "      <td>0.000070</td>\n",
       "      <td>0.1660</td>\n",
       "      <td>-9.567</td>\n",
       "      <td>0.0622</td>\n",
       "      <td>102.634</td>\n",
       "      <td>0.532</td>\n",
       "      <td>27</td>\n",
       "      <td>121680</td>\n",
       "      <td>2.028000</td>\n",
       "      <td>False</td>\n",
       "    </tr>\n",
       "    <tr>\n",
       "      <th>1609</th>\n",
       "      <td>Walking The Dog</td>\n",
       "      <td>The Rolling Stones</td>\n",
       "      <td>1964-04-16</td>\n",
       "      <td>12</td>\n",
       "      <td>0.3830</td>\n",
       "      <td>0.727</td>\n",
       "      <td>0.934</td>\n",
       "      <td>0.068500</td>\n",
       "      <td>0.0965</td>\n",
       "      <td>-8.373</td>\n",
       "      <td>0.0359</td>\n",
       "      <td>125.275</td>\n",
       "      <td>0.969</td>\n",
       "      <td>35</td>\n",
       "      <td>189186</td>\n",
       "      <td>3.153100</td>\n",
       "      <td>False</td>\n",
       "    </tr>\n",
       "  </tbody>\n",
       "</table>\n",
       "<p>1112 rows × 17 columns</p>\n",
       "</div>"
      ],
      "text/plain": [
       "                                                name                   album  \\\n",
       "5                                  Monkey Man - Live      Licked Live In NYC   \n",
       "23    Honky Tonk Women - Live At The El Mocambo 1977  Live At The El Mocambo   \n",
       "25        Hand Of Fate - Live At The El Mocambo 1977  Live At The El Mocambo   \n",
       "26            Route 66 - Live At The El Mocambo 1977  Live At The El Mocambo   \n",
       "28          Crazy Mama - Live At The El Mocambo 1977  Live At The El Mocambo   \n",
       "...                                              ...                     ...   \n",
       "1605                                           Carol      The Rolling Stones   \n",
       "1606                                         Tell Me      The Rolling Stones   \n",
       "1607                             Can I Get A Witness      The Rolling Stones   \n",
       "1608                      You Can Make It If You Try      The Rolling Stones   \n",
       "1609                                 Walking The Dog      The Rolling Stones   \n",
       "\n",
       "     release_date  track_number  acousticness  danceability  energy  \\\n",
       "5      2022-06-10             6        0.2750         0.340   0.956   \n",
       "23     2022-05-13             1        0.1620         0.430   0.901   \n",
       "25     2022-05-13             3        0.0654         0.477   0.899   \n",
       "26     2022-05-13             4        0.0975         0.473   0.923   \n",
       "28     2022-05-13             6        0.0288         0.447   0.883   \n",
       "...           ...           ...           ...           ...     ...   \n",
       "1605   1964-04-16             8        0.1570         0.466   0.932   \n",
       "1606   1964-04-16             9        0.0576         0.509   0.706   \n",
       "1607   1964-04-16            10        0.3710         0.790   0.774   \n",
       "1608   1964-04-16            11        0.2170         0.700   0.546   \n",
       "1609   1964-04-16            12        0.3830         0.727   0.934   \n",
       "\n",
       "      instrumentalness  liveness  loudness  speechiness    tempo  valence  \\\n",
       "5             0.125000    0.7410    -5.539       0.0915  101.628    0.125   \n",
       "23            0.011000    0.6940    -6.215       0.0450  112.077    0.890   \n",
       "25            0.037600    0.7270    -6.189       0.0425  129.991    0.805   \n",
       "26            0.001570    0.7220    -6.204       0.0791  144.625    0.792   \n",
       "28            0.005540    0.7260    -6.266       0.0371  117.604    0.556   \n",
       "...                ...       ...       ...          ...      ...      ...   \n",
       "1605          0.006170    0.3240    -9.214       0.0429  177.340    0.967   \n",
       "1606          0.000002    0.5160    -9.427       0.0843  122.015    0.446   \n",
       "1607          0.000000    0.0669    -7.961       0.0720   97.035    0.835   \n",
       "1608          0.000070    0.1660    -9.567       0.0622  102.634    0.532   \n",
       "1609          0.068500    0.0965    -8.373       0.0359  125.275    0.969   \n",
       "\n",
       "      popularity  duration_ms  duracao_em_min  ao_vivo  \n",
       "5             31       244293        4.071550    False  \n",
       "23            32       216546        3.609100    False  \n",
       "25            29       267866        4.464433    False  \n",
       "26            30       193653        3.227550    False  \n",
       "28            29       299213        4.986883    False  \n",
       "...          ...          ...             ...      ...  \n",
       "1605          39       154080        2.568000    False  \n",
       "1606          36       245266        4.087767    False  \n",
       "1607          30       176080        2.934667    False  \n",
       "1608          27       121680        2.028000    False  \n",
       "1609          35       189186        3.153100    False  \n",
       "\n",
       "[1112 rows x 17 columns]"
      ]
     },
     "execution_count": 41,
     "metadata": {},
     "output_type": "execute_result"
    }
   ],
   "source": [
    "df_gravado_em_studio"
   ]
  },
  {
   "cell_type": "code",
   "execution_count": 42,
   "id": "6bd1bdbd",
   "metadata": {},
   "outputs": [
    {
     "name": "stdout",
     "output_type": "stream",
     "text": [
      "Média das musicas ao vivo:  5.088648962516734\n"
     ]
    }
   ],
   "source": [
    "print(\"Média das musicas ao vivo: \", df_show_ao_vivo[\"duracao_em_min\"].mean())"
   ]
  },
  {
   "cell_type": "code",
   "execution_count": 43,
   "id": "771d3fa2",
   "metadata": {},
   "outputs": [
    {
     "name": "stdout",
     "output_type": "stream",
     "text": [
      "Média das músicas em studio:  3.940451363908873\n"
     ]
    }
   ],
   "source": [
    "print(\"Média das músicas em studio: \", df_gravado_em_studio[\"duracao_em_min\"].mean())"
   ]
  },
  {
   "cell_type": "code",
   "execution_count": 44,
   "id": "3ecf9ab5",
   "metadata": {},
   "outputs": [],
   "source": [
    "df_studio = df_gravado_em_studio.groupby(\"album\")[\"loudness\"].sum()\n",
    "df_ao_vivo = df_show_ao_vivo.groupby(\"album\")[\"loudness\"].sum()"
   ]
  },
  {
   "cell_type": "code",
   "execution_count": 45,
   "id": "fb0e733f",
   "metadata": {},
   "outputs": [
    {
     "data": {
      "application/vnd.microsoft.datawrangler.viewer.v0+json": {
       "columns": [
        {
         "name": "album",
         "rawType": "object",
         "type": "string"
        },
        {
         "name": "loudness",
         "rawType": "float64",
         "type": "float"
        }
       ],
       "ref": "2bea0a1e-428f-433b-bf9a-7fea7a1f73f2",
       "rows": [
        [
         "12 X 5",
         "-122.565"
        ],
        [
         "12 x 5",
         "-122.513"
        ],
        [
         "A Bigger Bang (2009 Re-Mastered)",
         "-62.792"
        ],
        [
         "A Bigger Bang (Live)",
         "-11.335"
        ],
        [
         "Aftermath",
         "-138.262"
        ],
        [
         "Aftermath (UK Version)",
         "-353.077"
        ],
        [
         "Beggars Banquet",
         "-102.684"
        ],
        [
         "Beggars Banquet (50th Anniversary Edition)",
         "-85.3"
        ],
        [
         "Between The Buttons",
         "-236.07"
        ],
        [
         "Between The Buttons (UK Version)",
         "-118.914"
        ],
        [
         "Between The Buttons (US track listing)",
         "-115.945"
        ],
        [
         "Black And Blue",
         "-83.604"
        ],
        [
         "Black And Blue (Remastered 2009)",
         "-49.414"
        ],
        [
         "Blue & Lonesome",
         "-53.858000000000004"
        ],
        [
         "Bridges To Babylon",
         "-90.661"
        ],
        [
         "Bridges To Babylon (Remastered)",
         "-81.152"
        ],
        [
         "Bridges To Bremen (Live)",
         "-33.073"
        ],
        [
         "Bridges To Buenos Aires (Live)",
         "-14.046"
        ],
        [
         "December's Children (and everybody's)",
         "-102.024"
        ],
        [
         "December’s Children (And Everybody’s)",
         "-101.265"
        ],
        [
         "Dirty Work",
         "-59.669"
        ],
        [
         "Dirty Work (Remastered 2009)",
         "-59.605000000000004"
        ],
        [
         "Emotional Rescue",
         "-98.07300000000001"
        ],
        [
         "Emotional Rescue (2009 Re-Mastered)",
         "-53.571"
        ],
        [
         "England's Newest Hit Makers",
         "-111.387"
        ],
        [
         "England’s Newest Hitmakers",
         "-111.499"
        ],
        [
         "Exile On Main Street (2010 Re-Mastered)",
         "-98.072"
        ],
        [
         "Exile On Main Street (Bonus Track Version)",
         "-155.011"
        ],
        [
         "Exile On Main Street (Deluxe Version)",
         "-149.671"
        ],
        [
         "Flashpoint",
         "-88.134"
        ],
        [
         "Flowers",
         "-239.53900000000002"
        ],
        [
         "From The Vault: No Security - San Jose 1999 (Live)",
         "-14.221"
        ],
        [
         "Get Yer Ya Yas Out",
         "-18.963"
        ],
        [
         "Get Yer Ya-Ya's Out! (Remastered)",
         "-30.041"
        ],
        [
         "Get Yer Ya-Ya's Out! The Rolling Stones In Concert (40th Anniversary Edition)",
         "-131.974"
        ],
        [
         "Goats Head Soup",
         "-105.796"
        ],
        [
         "Goats Head Soup (Deluxe)",
         "-168.516"
        ],
        [
         "Goats Head Soup (Remastered 2009)",
         "-51.902"
        ],
        [
         "Got Live if you want it!",
         "-55.715"
        ],
        [
         "Havana Moon (Live)",
         "-20.095"
        ],
        [
         "Honk (Deluxe)",
         "-209.843"
        ],
        [
         "It's Only Rock 'N' Roll",
         "-102.815"
        ],
        [
         "It's Only Rock 'N' Roll (2009 Re-Mastered)",
         "-49.82"
        ],
        [
         "Jamming With Edward",
         "-87.452"
        ],
        [
         "Ladies & Gentlemen (Live)",
         "-65.858"
        ],
        [
         "Let It Bleed",
         "-179.305"
        ],
        [
         "Let It Bleed (50th Anniversary Edition / Remastered 2019)",
         "-85.595"
        ],
        [
         "Licked Live In NYC",
         "-5.539"
        ],
        [
         "Live 1965: Music From Charlie Is My Darling (Live From England/1965)",
         "-56.272999999999996"
        ],
        [
         "Live At The Checkerboard Lounge",
         "-124.062"
        ]
       ],
       "shape": {
        "columns": 1,
        "rows": 88
       }
      },
      "text/plain": [
       "album\n",
       "12 X 5                             -122.565\n",
       "12 x 5                             -122.513\n",
       "A Bigger Bang (2009 Re-Mastered)    -62.792\n",
       "A Bigger Bang (Live)                -11.335\n",
       "Aftermath                          -138.262\n",
       "                                     ...   \n",
       "Undercover                         -101.938\n",
       "Undercover (2009 Re-Mastered)       -47.734\n",
       "Voodoo Lounge (Remastered 2009)    -102.066\n",
       "Voodoo Lounge Uncut (Live)         -102.742\n",
       "got LIVE if you want it!            -55.802\n",
       "Name: loudness, Length: 88, dtype: float64"
      ]
     },
     "execution_count": 45,
     "metadata": {},
     "output_type": "execute_result"
    }
   ],
   "source": [
    "df_studio"
   ]
  },
  {
   "cell_type": "code",
   "execution_count": 46,
   "id": "5fa8da76",
   "metadata": {},
   "outputs": [
    {
     "data": {
      "application/vnd.microsoft.datawrangler.viewer.v0+json": {
       "columns": [
        {
         "name": "album",
         "rawType": "object",
         "type": "string"
        },
        {
         "name": "loudness",
         "rawType": "float64",
         "type": "float"
        }
       ],
       "ref": "439bb1b7-0779-4d0b-a100-9381a1e55f76",
       "rows": [
        [
         "A Bigger Bang (Live)",
         "-102.258"
        ],
        [
         "Bridges To Bremen (Live)",
         "-63.878"
        ],
        [
         "Bridges To Buenos Aires (Live)",
         "-83.815"
        ],
        [
         "Dirty Work",
         "-2.701"
        ],
        [
         "Dirty Work (Remastered 2009)",
         "-2.688"
        ],
        [
         "Flashpoint",
         "-119.095"
        ],
        [
         "From The Vault: No Security - San Jose 1999 (Live)",
         "-83.754"
        ],
        [
         "Get Yer Ya Yas Out",
         "-87.376"
        ],
        [
         "Get Yer Ya-Ya's Out! (Remastered)",
         "-53.731"
        ],
        [
         "Get Yer Ya-Ya's Out! The Rolling Stones In Concert (40th Anniversary Edition)",
         "-85.996"
        ],
        [
         "Goats Head Soup (Deluxe)",
         "-25.945"
        ],
        [
         "Got Live if you want it!",
         "-41.849"
        ],
        [
         "Havana Moon (Live)",
         "-70.146"
        ],
        [
         "Honk (Deluxe)",
         "-26.481"
        ],
        [
         "Ladies & Gentlemen (Live)",
         "-30.469"
        ],
        [
         "Licked Live In NYC",
         "-127.229"
        ],
        [
         "Live 1965: Music From Charlie Is My Darling (Live From England/1965)",
         "-33.888999999999996"
        ],
        [
         "Live At The Checkerboard Lounge",
         "-87.091"
        ],
        [
         "Live At The El Mocambo",
         "-70.509"
        ],
        [
         "Live Licks",
         "-142.038"
        ],
        [
         "Love You Live (Remastered 2009)",
         "-71.122"
        ],
        [
         "Love You Live (Remastered)",
         "-117.42999999999999"
        ],
        [
         "Now!",
         "-8.645"
        ],
        [
         "Out Of Our Heads",
         "-9.782"
        ],
        [
         "Out Of Our Heads (UK Sequence)",
         "-9.186"
        ],
        [
         "Out Of Our Heads (UK)",
         "-8.926"
        ],
        [
         "Out Of Our Heads (US Sequence)",
         "-9.755"
        ],
        [
         "Some Girls: Live In Texas '78",
         "-94.644"
        ],
        [
         "Steel Wheels (Remastered 2009)",
         "-4.257"
        ],
        [
         "Steel Wheels Live",
         "-120.542"
        ],
        [
         "Sticky Fingers (Deluxe)",
         "-4.573"
        ],
        [
         "Sticky Fingers (Super Deluxe)",
         "-22.326999999999998"
        ],
        [
         "Sticky Fingers Live At The Fonda Theatre",
         "-49.968"
        ],
        [
         "Still Life",
         "-44.482"
        ],
        [
         "Stripped",
         "-35.229"
        ],
        [
         "Tattoo You (Super Deluxe)",
         "-143.106"
        ],
        [
         "The Rolling Stones, Now!",
         "-8.689"
        ],
        [
         "Totally Stripped (Live)",
         "-72.676"
        ],
        [
         "Totally Stripped - Amsterdam (Live)",
         "-89.205"
        ],
        [
         "Totally Stripped - Brixton (Live)",
         "-116.813"
        ],
        [
         "Totally Stripped - Paris (Live)",
         "-118.55"
        ],
        [
         "Voodoo Lounge Uncut (Live)",
         "-351.926"
        ],
        [
         "got LIVE if you want it!",
         "-41.844"
        ]
       ],
       "shape": {
        "columns": 1,
        "rows": 43
       }
      },
      "text/plain": [
       "album\n",
       "A Bigger Bang (Live)                                                            -102.258\n",
       "Bridges To Bremen (Live)                                                         -63.878\n",
       "Bridges To Buenos Aires (Live)                                                   -83.815\n",
       "Dirty Work                                                                        -2.701\n",
       "Dirty Work (Remastered 2009)                                                      -2.688\n",
       "Flashpoint                                                                      -119.095\n",
       "From The Vault: No Security - San Jose 1999 (Live)                               -83.754\n",
       "Get Yer Ya Yas Out                                                               -87.376\n",
       "Get Yer Ya-Ya's Out! (Remastered)                                                -53.731\n",
       "Get Yer Ya-Ya's Out! The Rolling Stones In Concert (40th Anniversary Edition)    -85.996\n",
       "Goats Head Soup (Deluxe)                                                         -25.945\n",
       "Got Live if you want it!                                                         -41.849\n",
       "Havana Moon (Live)                                                               -70.146\n",
       "Honk (Deluxe)                                                                    -26.481\n",
       "Ladies & Gentlemen (Live)                                                        -30.469\n",
       "Licked Live In NYC                                                              -127.229\n",
       "Live 1965: Music From Charlie Is My Darling (Live From England/1965)             -33.889\n",
       "Live At The Checkerboard Lounge                                                  -87.091\n",
       "Live At The El Mocambo                                                           -70.509\n",
       "Live Licks                                                                      -142.038\n",
       "Love You Live (Remastered 2009)                                                  -71.122\n",
       "Love You Live (Remastered)                                                      -117.430\n",
       "Now!                                                                              -8.645\n",
       "Out Of Our Heads                                                                  -9.782\n",
       "Out Of Our Heads (UK Sequence)                                                    -9.186\n",
       "Out Of Our Heads (UK)                                                             -8.926\n",
       "Out Of Our Heads (US Sequence)                                                    -9.755\n",
       "Some Girls: Live In Texas '78                                                    -94.644\n",
       "Steel Wheels (Remastered 2009)                                                    -4.257\n",
       "Steel Wheels Live                                                               -120.542\n",
       "Sticky Fingers (Deluxe)                                                           -4.573\n",
       "Sticky Fingers (Super Deluxe)                                                    -22.327\n",
       "Sticky Fingers Live At The Fonda Theatre                                         -49.968\n",
       "Still Life                                                                       -44.482\n",
       "Stripped                                                                         -35.229\n",
       "Tattoo You (Super Deluxe)                                                       -143.106\n",
       "The Rolling Stones, Now!                                                          -8.689\n",
       "Totally Stripped (Live)                                                          -72.676\n",
       "Totally Stripped - Amsterdam (Live)                                              -89.205\n",
       "Totally Stripped - Brixton (Live)                                               -116.813\n",
       "Totally Stripped - Paris (Live)                                                 -118.550\n",
       "Voodoo Lounge Uncut (Live)                                                      -351.926\n",
       "got LIVE if you want it!                                                         -41.844\n",
       "Name: loudness, dtype: float64"
      ]
     },
     "execution_count": 46,
     "metadata": {},
     "output_type": "execute_result"
    }
   ],
   "source": [
    "df_ao_vivo"
   ]
  },
  {
   "cell_type": "code",
   "execution_count": 50,
   "id": "1207d65a",
   "metadata": {},
   "outputs": [
    {
     "data": {
      "image/png": "[encoded data removed]",
      "text/plain": [
       "<Figure size 1500x400 with 2 Axes>"
      ]
     },
     "metadata": {},
     "output_type": "display_data"
    }
   ],
   "source": [
    "# criação de grafico de histograma\n",
    "\n",
    "fig, axes = plt.subplots(1, 2, figsize=(15,4))\n",
    "\n",
    "sns.histplot(data=df_studio, bins=20, ax=axes[0])\n",
    "axes[0].set_title(\"Soma do barulhos dos albúns de estudio\")\n",
    "axes[0].set_xlabel(\"Barulho\")\n",
    "axes[0].set_ylabel(\"Frequência\")\n",
    "\n",
    "sns.histplot(data=df_ao_vivo, bins=20, ax=axes[1])\n",
    "axes[1].set_title(\"Soma do barulhos dos albúns ao vivo\")\n",
    "axes[1].set_xlabel(\"Barulho\")\n",
    "axes[1].set_ylabel(\"Frequência\")\n",
    "\n",
    "fig.tight_layout()\n",
    "plt.show()"
   ]
  },
  {
   "cell_type": "code",
   "execution_count": 52,
   "id": "d83dacf4",
   "metadata": {},
   "outputs": [
    {
     "data": {
      "text/plain": [
       "<matplotlib.legend.Legend at 0x2bbddc1c280>"
      ]
     },
     "execution_count": 52,
     "metadata": {},
     "output_type": "execute_result"
    },
    {
     "data": {
      "image/png": "[encoded data removed]",
      "text/plain": [
       "<Figure size 640x480 with 1 Axes>"
      ]
     },
     "metadata": {},
     "output_type": "display_data"
    }
   ],
   "source": [
    "plt.Figure(figsize=(10,5))\n",
    "\n",
    "sns.kdeplot(data=df_studio, label = \"albuns de studio\", fill=True)\n",
    "sns.kdeplot(data=df_ao_vivo, label = \"albuns ao vivo\", fill=True)\n",
    "\n",
    "plt.title(\"Distribuição do barulhos dos albuns\")\n",
    "plt.xlabel(\"Barulho\")\n",
    "plt.ylabel(\"Densidade\")\n",
    "plt.legend()"
   ]
  },
  {
   "cell_type": "code",
   "execution_count": 53,
   "id": "771661bb",
   "metadata": {},
   "outputs": [],
   "source": [
    "from scipy.stats import shapiro"
   ]
  },
  {
   "cell_type": "code",
   "execution_count": 55,
   "id": "5bce9c6e",
   "metadata": {},
   "outputs": [
    {
     "name": "stdout",
     "output_type": "stream",
     "text": [
      "Soma do braulho dos albuns de studio: \n",
      "Estatisca de teste: 0.9083, valor p: 1.1916641427385933e-05\n",
      "A hipotese de normalidade é rejeitada\n"
     ]
    }
   ],
   "source": [
    "stat, p = shapiro(df_studio)\n",
    "print(\"Soma do braulho dos albuns de studio: \")\n",
    "print(\"Estatisca de teste: {:.4f}, valor p: {}\".format(stat, p))\n",
    "\n",
    "if p > 0.05:\n",
    "    print(\"Não há evidencia suficiente para rejeitar a hipotese de normalidade\")\n",
    "else:\n",
    "    print(\"A hipotese de normalidade é rejeitada\")"
   ]
  }
 ],
 "metadata": {
  "kernelspec": {
   "display_name": "Python 3",
   "language": "python",
   "name": "python3"
  },
  "language_info": {
   "codemirror_mode": {
    "name": "ipython",
    "version": 3
   },
   "file_extension": ".py",
   "mimetype": "text/x-python",
   "name": "python",
   "nbconvert_exporter": "python",
   "pygments_lexer": "ipython3",
   "version": "3.10.11"
  }
 },
 "nbformat": 4,
 "nbformat_minor": 5
}
